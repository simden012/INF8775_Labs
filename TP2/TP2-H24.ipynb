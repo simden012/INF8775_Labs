{
 "cells": [
  {
   "cell_type": "markdown",
   "metadata": {},
   "source": [
    "# INF8775 – Analyse et conception d’algorithmes\n",
    "# TP2 – Hiver 2024"
   ]
  },
  {
   "cell_type": "markdown",
   "metadata": {},
   "source": [
    "NOM, Prénom, 1234567\n",
    "\n",
    "NOM, Prénom, 1234567"
   ]
  },
  {
   "cell_type": "markdown",
   "metadata": {},
   "source": [
    "Note finale :"
   ]
  },
  {
   "cell_type": "markdown",
   "metadata": {},
   "source": [
    " <u>**Date limite de remise :**</u>  27 mars 23h59 (Groupe B1), 19 mars 23h59 (Groupe B2)"
   ]
  },
  {
   "cell_type": "markdown",
   "metadata": {},
   "source": [
    "# Instructions\n",
    "\n",
    "## Rédaction et remise du rapport\n",
    "\n",
    "- Ce notebook constitue à la fois le sujet du TP, votre code et votre rapport. Il contient déjà du code pour faciliter vos mesures et l'affichage de vos résultats, ainsi qu'un squelette pour votre rapport.\n",
    "\n",
    "- Complétez directement le notebook, vous êtes libres de créer de nouvelles cellules de code ou de texte. \n",
    "\n",
    "- Remettez le fichier du notebook sur Moodle avec le nom `NOM1_MATRICULE1_NOM2_MATRICULE2.ipynb`\n",
    "\n",
    "- Vous pouvez inclure du code trouvé sur Internet, mais vous devez en mentionner la source, sous peine d'être sanctionnés pour plagiat.\n",
    "\n",
    "## Mise en situation\n",
    "\n",
    "Ce travail pratique se répartit sur deux séances de laboratoire et porte sur l'analyse et la conception d'algorithmes développés suivant différents patrons de conception afin de résoudre une version simplifiée d'un problème réaliste d'optimisation.\n",
    "\n",
    "\n",
    "## Description du problème\n",
    "\n",
    "Un pianiste souhaite jouer une mélodie donnée par une partition. La mélodie est une suite de n notes *(a0, a1, ... , an-1)* où chaque ai appartient à un ensemble de m notes numérotées de 0 à m-1.\n",
    "\n",
    "Le pianiste peut choisir de jouer chaque note avec l’un de ses D doigts. Le passage de la note i1 jouée avec le doigt d1 à la note i2 jouée avec le doigt d2 est pénalisée par une fonction de difficulté de la transition *C(i1, d1, i2, d2)*. Notre pianiste souhaite donc déterminer avec quel doigt il doit jouer chaque note de la mélodie de façon à minimiser la somme des coûts de chaque transition.\n",
    "\n",
    "Pour la partie empirique de ce TP, nous nous limiterons à des mélodies jouées à une main (D=5) sur deux octaves (m=24).\n",
    "\n",
    "Soit l’exemple suivant avec 5 notes :\n",
    "\n",
    "- L'exemplaire est : `[17, 21, 18, 2, 21, 15, 11, 16]`\n",
    "- La solution est : `[2, 1, 1, 0, 1, 1, 2, 1]`\n",
    "\n",
    "La figure ci-dessous représente la partition avec ça solution et le coût associé à chaque transition (en gris)."
   ]
  },
  {
   "cell_type": "markdown",
   "metadata": {},
   "source": [
    "![alt text](example_solution.png \"Title\")"
   ]
  },
  {
   "cell_type": "markdown",
   "metadata": {},
   "source": [
    "## Algorithmes à implanter\n",
    "\n",
    "Trois algorithmes seront implantés, mettant en pratique des patrons de conception différents :\n",
    "\n",
    "1. Un algorithme glouton\n",
    "2. Un algorithme de programmation dynamique\n",
    "3. Un algorithme de recherche locale"
   ]
  },
  {
   "cell_type": "markdown",
   "metadata": {},
   "source": [
    "\n",
    "## Jeu de données\n",
    "\n",
    "La fonction `generate_sample` ci-dessous permet de générer un exemplaire d'une taille donnée.\n",
    "\n",
    "La fonction `get_dataset` permet de récupérer un dataset pour la liste de taille fournie. Elle prend également en entrée un graine aléatoire pour générer le dataset en question.\n",
    "\n",
    "Afin que chaque groupe travaille avec un set différent, mais que vos propres expériences soient reproductibles, entrez l'un de vous matricule comme graine aléatoire dans la cellule ci-dessous.\n",
    "\n",
    "Vous êtes bien entendu libres de tester et mesurer vos algorithme sur le même dataset qu'un autre groupe. Pour cela, générez simplement un dataset avec la même graine et la même liste de taille.\n",
    "\n"
   ]
  },
  {
   "cell_type": "code",
   "execution_count": 55,
   "metadata": {},
   "outputs": [],
   "source": [
    "import numpy as np\n",
    "import matplotlib.pyplot as plt\n",
    "from matplotlib.ticker import MaxNLocator\n",
    "from scipy.stats import linregress\n",
    "import time"
   ]
  },
  {
   "cell_type": "code",
   "execution_count": 56,
   "metadata": {},
   "outputs": [],
   "source": [
    "def visualize_solution(costs, partition, solution):\n",
    "    \"\"\"\n",
    "    Visualisez votre solution et les coûts associés.    \n",
    "    \"\"\"\n",
    "    # Create a figure and axis\n",
    "    _, ax = plt.subplots()\n",
    "    \n",
    "    # Plot the notes as circles with their sizes proportional to the partition values\n",
    "    for i in range(len(partition)):\n",
    "        ax.scatter([i], [partition[i]], marker='o')\n",
    "        ax.text(i, partition[i] + 0.2, str(solution[i]), ha='center', va='bottom')\n",
    "    \n",
    "    # Set the limits for the axes to fit the plot\n",
    "    ax.set_ylim(min(partition) - 1, max(partition) + 1)\n",
    "    ax.set_xlim(-0.5, len(partition)-0.5)\n",
    "    \n",
    "    # Label the axes\n",
    "    ax.set_xlabel('Partition')\n",
    "    ax.set_ylabel('Note')\n",
    "    ax.yaxis.set_major_locator(MaxNLocator(integer=True))\n",
    "    \n",
    "    # Title the plot\n",
    "    ax.set_title('Partition et doigts utilisés')\n",
    "\n",
    "    plot_costs = getCosts(costs, partition, solution).tolist()\n",
    "    plot_costs.append(0)\n",
    "\n",
    "    ax2 = ax.twinx()\n",
    "    ax2.bar(range(len(partition)), plot_costs, width=1, alpha=0.5, align='edge', color='gray')\n",
    "    ax2.set_xlim(-0.5, len(partition)-0.5)\n",
    "    ax2.set_ylim(0, 100)\n",
    "    \n",
    "    # Remove the ticks and tick labels from the secondary y-axis\n",
    "    ax2.tick_params(axis='both', which='both', length=0)\n",
    "    ax2.set_yticklabels([])\n",
    "    ax2.spines['top'].set_visible(False)\n",
    "    ax2.spines['right'].set_visible(False)\n",
    "    ax2.spines['bottom'].set_visible(False)\n",
    "    ax2.spines['left'].set_visible(False)    \n",
    "    # Show the plot\n",
    "    plt.show()\n",
    "\n",
    "def generate_sample(size, maxValue=24):\n",
    "    return np.random.randint(0, maxValue, size).tolist()\n",
    "\n",
    "def get_dataset(seed, sizes):\n",
    "    np.random.seed(seed)\n",
    "    return { size: [generate_sample(size) for _ in range(5)]\n",
    "        for size in sizes }\n",
    "\n",
    "def readFile(filePath):\n",
    "    \"\"\"\n",
    "    Charger une partition depuis un fichier\n",
    "    \"\"\"\n",
    "    f = open(filePath)\n",
    "    N = int(f.readline())\n",
    "    partition = list(map(int, f.readline().split(' ')))\n",
    "    f.close()\n",
    "    return partition\n",
    "\n",
    "def getCosts(costs, partition, solution):\n",
    "    \"\"\"\n",
    "    Liste des coûts associés à chaque transition de votre solution.\n",
    "    \"\"\"\n",
    "    prevNotes, nextNotes = partition[:-1], partition[1:]\n",
    "    prevFingers, nextFingers = solution[:-1], solution[1:]\n",
    "    return costs[prevNotes, prevFingers, nextNotes, nextFingers]\n",
    "\n",
    "def getTotalCost(costs, partition, solution):\n",
    "    \"\"\"\n",
    "    Coût total de votre solution\n",
    "    \"\"\"\n",
    "    return np.sum(getCosts(costs, partition, solution))"
   ]
  },
  {
   "cell_type": "markdown",
   "metadata": {},
   "source": [
    "Exécutez la cellule suivante afin d'obtenir le tenseur des coûts associé à chaque transition."
   ]
  },
  {
   "cell_type": "code",
   "execution_count": 57,
   "metadata": {},
   "outputs": [],
   "source": [
    "load_file = np.loadtxt('cout_transition.txt', dtype=int)\n",
    "costs = load_file.reshape((24, 5, 24, 5))\n",
    "D = 5    # Nombre de doigts\n",
    "M = 24   # Etendue des notes (2 octaves)\n",
    "\n",
    "partition = readFile('Chansons/twinkle_twinkle.txt')"
   ]
  },
  {
   "cell_type": "markdown",
   "metadata": {},
   "source": [
    "# Implantations et expérimentations"
   ]
  },
  {
   "cell_type": "markdown",
   "metadata": {},
   "source": [
    "Ces fonctions auxiliaires vous sont fournies pour vérifier l'exactitude des vos algorithmes, mesurer leurs performance et afficher vos résultats.\n",
    "\n",
    "Il est recommandé de prendre le temps de lire et comprendre le code.\n",
    "\n",
    "Exécutez la cellule ci-dessous pour pouvoir utiliser les fonctions auxiliaires."
   ]
  },
  {
   "cell_type": "code",
   "execution_count": 58,
   "metadata": {},
   "outputs": [],
   "source": [
    "def measure(procedure, sample):\n",
    "    \"\"\" Mesure le temps d'execution d'une procédure sur un unique exemplaire \"\"\"\n",
    "    start = time.time()\n",
    "    solution = procedure(sample)\n",
    "    end = time.time()\n",
    "    sorting_time = end - start\n",
    "    return solution, sorting_time\n",
    "\n",
    "\n",
    "def measure_mean_time(procedure, samples):\n",
    "    total_time = 0\n",
    "    for i in range(len(samples)):\n",
    "        sample = samples[i]\n",
    "        _, compute_time = measure(procedure, sample)\n",
    "        total_time += compute_time\n",
    "        print(f\"Computing {procedure.__name__} on sample {i+1} of size {len(sample)}...          \", end='\\r')\n",
    "    return total_time / len(samples)\n",
    "\n",
    "\n",
    "def measure_procedure(procedure, dataset):\n",
    "    \"\"\" Mesure les temps moyens d'execution d'une procédure sur chaque point d'un dataset \"\"\"\n",
    "    return {size: measure_mean_time(procedure, samples) for size, samples in dataset.items()}\n",
    "\n",
    "def display_measures_table(measures):\n",
    "    print(\"{: <12} {: <12}\".format(\"Taille\", \"Temps moyen (s)\"))\n",
    "    for size, measure in measures.items():\n",
    "        print(\"{: <12} {: <12}\".format(size, measure))\n",
    "\n",
    "\n",
    "def display_test_puissance(vals, title=\"Test de puissance\"):\n",
    "    x = list(vals.keys())\n",
    "    y = list(vals.values())\n",
    "\n",
    "    # Perform linear regression\n",
    "    m, b, rvalue, _, _ = linregress(x, y)\n",
    "    r = list(map(lambda x : m*x + b, x))\n",
    "\n",
    "    # Create the line equation\n",
    "    line_eq = f\"y = {m:.2f}x + {b:.2f}\"\n",
    "\n",
    "    # Plot the points\n",
    "    plt.scatter(x, y, label='Mesures')\n",
    "\n",
    "    # Plot the regression line\n",
    "    plt.plot(x, r, color=\"red\", label=f'Regression linéaire R²={round(rvalue**2,4)}')\n",
    "\n",
    "    # Add labels and title\n",
    "    plt.xlabel('log Taille')\n",
    "    plt.ylabel('log Temps')\n",
    "    plt.title(title)\n",
    "\n",
    "    # Add legend\n",
    "    plt.legend(bbox_to_anchor=(0.60, 0), loc='lower left')\n",
    "\n",
    "    # Display the line equation\n",
    "    plt.text(min(x), max(y), line_eq)\n",
    "\n",
    "    # Show the plot\n",
    "    plt.show()\n",
    "\n",
    "def display_test_rapport(vals, title=\"Test du rapport\"):\n",
    "    x = list(vals.keys())\n",
    "    y = list(vals.values())\n",
    "\n",
    "    plt.plot(x, y, label='Mesures')\n",
    "    plt.scatter(x, y, label='Mesures')\n",
    "\n",
    "    # Add labels and title\n",
    "    plt.xlabel('Taille')\n",
    "    plt.ylabel('Temps / f(taille)')\n",
    "    plt.title(title)\n",
    "    plt.show()\n",
    "\n",
    "\n",
    "def display_test_constantes(vals, title=\"Test des constantes\"):\n",
    "    x = list(vals.keys())\n",
    "    y = list(vals.values())\n",
    "\n",
    "    # Perform linear regression\n",
    "    m, b, rvalue, _, _ = linregress(x, y)\n",
    "\n",
    "    r = list(map(lambda x : m*x + b, x))\n",
    "\n",
    "    # Create the line equation\n",
    "    line_eq = f\"y = {m:.2E}x + {b:.2E}\"\n",
    "\n",
    "    # Plot the points\n",
    "    plt.scatter(x, y, label='Mesures')\n",
    "\n",
    "    # Plot the regression line\n",
    "    plt.plot(x, r, color=\"red\", label=f'Regression linéaire R²={round(rvalue**2,4)}')\n",
    "\n",
    "    # Add labels and title\n",
    "    plt.xlabel('f(Taille)')\n",
    "    plt.ylabel('Temps')\n",
    "    plt.title(title)\n",
    "\n",
    "    # Add legend\n",
    "    plt.legend(bbox_to_anchor=(0.60, 0), loc='lower left')\n",
    "\n",
    "    # Display the line equation\n",
    "    plt.text(min(x), max(y), line_eq)\n",
    "\n",
    "    # Show the plot\n",
    "    plt.show()"
   ]
  },
  {
   "cell_type": "markdown",
   "metadata": {},
   "source": [
    "## Partie 1 : Algorithme glouton"
   ]
  },
  {
   "cell_type": "markdown",
   "metadata": {},
   "source": [
    "Implantez un algorithme suivant le patron de conception glouton.\n",
    "\n",
    "L'algorithme glouton fait son choix en fonction du coût de la prochaine transition :\n",
    "\n",
    "Les deux premiers doigts d0 et d1 sont choisis de façon à minimiser C(a0, d0, a1, d1). Puis, étant donné le\n",
    "doigt précédent d et la transition de la note i vers la note j, le choix glouton porte sur le doigt d’ qui\n",
    "minimise C(i, d, j, d’).\n",
    "\n",
    "Tentez de rendre votre implantation la plus performante possible en évitant des calculs inutiles."
   ]
  },
  {
   "cell_type": "code",
   "execution_count": null,
   "metadata": {},
   "outputs": [],
   "source": [
    "def glouton(partition):\n",
    "    solution = [0 for i in range(len(partition))]\n",
    "    return solution\n",
    "\n",
    "solutionGlouton = glouton(partition)\n",
    "print(\"Coût Glouton :\", getTotalCost(costs, partition, solutionGlouton))\n",
    "visualize_solution(costs, partition, solutionGlouton)"
   ]
  },
  {
   "cell_type": "markdown",
   "metadata": {},
   "source": [
    "### Analyse asymptotique\n",
    "\n",
    "Dans cette analyse, vous tiendrez compte à la fois de la longueur de la mélodie mais également du\n",
    "nombre de doigts pour chacun des trois algorithmes."
   ]
  },
  {
   "cell_type": "markdown",
   "metadata": {},
   "source": [
    "*Insérer votre réponse ici*"
   ]
  },
  {
   "cell_type": "markdown",
   "metadata": {},
   "source": [
    "### Mesures\n",
    "\n",
    "Rapportez dans un tableau les temps d'exécutions moyens avec les fonctions auxiliaires `measure_procedure` et `display_measure_table`"
   ]
  },
  {
   "cell_type": "code",
   "execution_count": null,
   "metadata": {},
   "outputs": [],
   "source": []
  },
  {
   "cell_type": "markdown",
   "metadata": {},
   "source": [
    "### Validation empirique\n",
    "\n",
    "Servez-vous de vos temps d'exécution pour confirmer et/ou préciser l'analyse asymptotique théorique de vos algorithmes avec la méthode hybride de votre choix.\n",
    "\n",
    "La méthode peut varier d'un algorithme à l'autre. Justifiez les choix ici et avec des graphiques."
   ]
  },
  {
   "cell_type": "code",
   "execution_count": null,
   "metadata": {},
   "outputs": [],
   "source": []
  },
  {
   "cell_type": "markdown",
   "metadata": {},
   "source": [
    "*Insérer votre réponse ici*"
   ]
  },
  {
   "cell_type": "markdown",
   "metadata": {},
   "source": [
    "## Partie 2 : Algorithme de programmation dynamique"
   ]
  },
  {
   "cell_type": "markdown",
   "metadata": {},
   "source": [
    "L'algorithme de programmation dynamique remplit un tableau des coûts de transition optimaux en\n",
    "fonction de la mélodie.\n",
    "\n",
    "Notons `J(k, d)` la somme minimale des coût de transition associée à la mélodie `(ak, ... , an−1)` (c’est-à-\n",
    "dire au suffixe de longueur `n - k` de la mélodie de départ) où l’on joue la première note ak avec le doigt\n",
    "d.\n",
    "\n",
    "Alors, J vérifie la relation de récurrence (1) :\n",
    "\n",
    "J(k, d) = min { 0≤ d’ ≤ D-1} [ C(ak, d, ak+1, d’ ) + J(k + 1, d’ ) ]\n",
    "\n",
    "et la condition terminale (2) :\n",
    "\n",
    "J(n - 1, d) = 0, ∀d = 0, ... , D - 1\n",
    "\n",
    "Comme on ne connaît pas le premier doigt à utiliser a priori, la solution au problème original est\n",
    "donnée par (3) :\n",
    "\n",
    "min { 0 ≤ d ≤ D-1} J(0, d)\n",
    "\n",
    "Cette récurrence est résolue par programmation dynamique pour déterminer la solution au problème.\n",
    "Note : Pour vous aider à vérifier que votre implantation fonctionne correctement, voici deux solutions\n",
    "que vous devriez obtenir avec cet algorithme (dépendant de votre implantation, il pourrait être possible\n",
    "que vous arriviez au même coût, mais avec une différente suite de doigts) :\n",
    "\n",
    "- twinkle_twinkle.txt ; coût = 31; doigts = [0, 0, 4, 3, 4, 4, 3, 2, 2, 1, 1, 0, 1, 0, 4, 4, 3, 3, 2, 2, 0, 4, 4, 3,\n",
    "3, 2, 2, 1, 0, 0, 4, 3, 4, 4, 3, 2, 2, 1, 1, 0, 1, 0]\n",
    "\n",
    "- fur_elise.txt ; coût = 1091; doigts = [1, 0, 1, 0, 1, 0, 4, 4, 4, 0, 1, 4, 4, 0, 1, 3, 4, 0, 4, 0, 1, 0, 1, 0, 4, 4,\n",
    "4, 0, 1, 4, 4, 0, 4, 3, 0, 4, 0, 1, 0, 1, 0, 4, 4, 4, 0, 1, 4, 4, 0, 1, 3, 4, 0, 4, 0, 1, 0, 1, 0, 4, 4, 4, 0, 1, 4, 4, 0,4, 3, 0, 1, 2, 3, 4, 0, 4, 4, 4, 0, 4, 4, 4, 0, 4, 3, 3, 3, 4, 0, 1, 0, 1, 0, 1, 0, 4, 4, 4, 0, 1, 4, 0, 1, 3, 4, 0, 4, 0,\n",
    "1, 0, 1, 0, 4, 4, 4, 0, 1, 4, 4, 0, 4, 3, 0, 1, 2, 3, 4, 0, 4, 4, 4, 0, 4, 4, 4, 0, 4, 3, 3, 3, 4, 0, 1, 0, 1, 0, 1, 0, 4,\n",
    "4, 4, 0, 1, 4, 0, 1, 3, 4, 0, 4, 0, 1, 0, 1, 0, 4, 4, 4, 0, 1, 4, 4, 0, 4, 3, 2, 0, 1, 2, 0, 1, 0, 2, 1, 1, 0, 4, 4, 4, 3,\n",
    "2, 1, 0, 1, 0, 0, 2, 1, 0, 0, 1, 2, 3, 3, 4, 3, 4, 0, 1, 2, 0, 0, 4, 0, 4, 0, 4, 0, 4, 0, 4, 0, 1, 0, 4, 4, 4, 4, 3, 2, 1,\n",
    "0, 4, 3, 1, 0, 4, 0, 4, 0, 4, 0, 4, 0, 4, 0, 1, 0, 4, 4, 4, 4, 3, 2, 1, 0, 2, 1, 0, 1, 2, 1, 0, 1, 0, 1, 0, 1, 0, 1, 0, 1,\n",
    "0, 1, 0, 1, 0, 1, 0, 1, 0, 1, 0, 1, 0, 1, 0, 1, 0, 4, 4, 4, 0, 1, 4, 4, 0, 1, 3, 4, 0, 4, 0, 1, 0, 1, 0, 4, 4, 4, 0, 1, 4,\n",
    "4, 0, 4, 3, 0, 1, 2, 3, 4, 0, 4, 4, 4, 0, 4, 4, 4, 0, 4, 4, 4, 0, 4, 4, 4, 4]\n",
    "\n",
    "Implantez l'algorithme de programmation dynamique."
   ]
  },
  {
   "cell_type": "code",
   "execution_count": null,
   "metadata": {},
   "outputs": [],
   "source": [
    "def progDyn(partition):\n",
    "    solution = [0 for i in range(len(partition))]\n",
    "    return solution\n",
    "\n",
    "solutionDyn = progDyn(partition)\n",
    "print(\"Coût Programmation Dynamique :\", getTotalCost(costs, partition, solutionDyn))\n",
    "visualize_solution(costs, partition, solutionDyn)"
   ]
  },
  {
   "cell_type": "markdown",
   "metadata": {},
   "source": [
    "### Analyse asymptotique\n",
    "\n",
    "Dans cette analyse, vous tiendrez compte à la fois de la longueur de la mélodie mais également du\n",
    "nombre de doigts pour chacun des trois algorithmes."
   ]
  },
  {
   "cell_type": "markdown",
   "metadata": {},
   "source": [
    "*Insérer votre réponse ici*"
   ]
  },
  {
   "cell_type": "markdown",
   "metadata": {},
   "source": [
    "### Mesures\n",
    "\n",
    "Rapportez dans un tableau les temps d'exécutions moyens avec les fonctions auxiliaires `measure_procedure` et `display_measure_table`"
   ]
  },
  {
   "cell_type": "code",
   "execution_count": null,
   "metadata": {},
   "outputs": [],
   "source": []
  },
  {
   "cell_type": "markdown",
   "metadata": {},
   "source": [
    "### Validation empirique\n",
    "\n",
    "Servez-vous de vos temps d'exécution pour confirmer et/ou préciser l'analyse asymptotique théorique de vos algorithmes avec la méthode hybride de votre choix.\n",
    "\n",
    "La méthode peut varier d'un algorithme à l'autre. Justifiez les choix ici et avec des graphiques."
   ]
  },
  {
   "cell_type": "code",
   "execution_count": null,
   "metadata": {},
   "outputs": [],
   "source": []
  },
  {
   "cell_type": "markdown",
   "metadata": {},
   "source": [
    "*Insérer votre réponse ici*"
   ]
  },
  {
   "cell_type": "markdown",
   "metadata": {},
   "source": [
    "## Partie 3 : Algorithme de recherche locale"
   ]
  },
  {
   "cell_type": "markdown",
   "metadata": {},
   "source": [
    "Cet algorithme explore le voisinage de solutions non optimales. En partant d’une solution gloutonne, la\n",
    "solution est améliorée en tentant d’échanger un doigt pour un autre sur une note. Vous pourrez prendre\n",
    "comme critère d’arrêt un nombre maximal d’itérations."
   ]
  },
  {
   "cell_type": "code",
   "execution_count": null,
   "metadata": {},
   "outputs": [],
   "source": [
    "def localSearch(partition):\n",
    "    solution = [0 for i in range(len(partition))]\n",
    "    return solution\n",
    "\n",
    "solutionLocal = localSearch(partition)\n",
    "print(\"Coût Recherche Locale :\", getTotalCost(costs, partition, solutionLocal))\n",
    "visualize_solution(costs, partition, solutionLocal)"
   ]
  },
  {
   "cell_type": "markdown",
   "metadata": {},
   "source": [
    "### Analyse asymptotique\n",
    "\n",
    "Dans cette analyse, vous tiendrez compte à la fois de la longueur de la mélodie mais également du\n",
    "nombre de doigts pour chacun des trois algorithmes."
   ]
  },
  {
   "cell_type": "markdown",
   "metadata": {},
   "source": [
    "*Insérer votre réponse ici*"
   ]
  },
  {
   "cell_type": "markdown",
   "metadata": {},
   "source": [
    "### Mesures\n",
    "\n",
    "Rapportez dans un tableau les temps d'exécutions moyens avec les fonctions auxiliaires `measure_procedure` et `display_measure_table`"
   ]
  },
  {
   "cell_type": "code",
   "execution_count": null,
   "metadata": {},
   "outputs": [],
   "source": []
  },
  {
   "cell_type": "markdown",
   "metadata": {},
   "source": [
    "### Validation empirique\n",
    "\n",
    "Servez-vous de vos temps d'exécution pour confirmer et/ou préciser l'analyse asymptotique théorique de vos algorithmes avec la méthode hybride de votre choix.\n",
    "\n",
    "La méthode peut varier d'un algorithme à l'autre. Justifiez les choix ici et avec des graphiques."
   ]
  },
  {
   "cell_type": "code",
   "execution_count": null,
   "metadata": {},
   "outputs": [],
   "source": []
  },
  {
   "cell_type": "markdown",
   "metadata": {},
   "source": [
    "*Insérer votre réponse ici*"
   ]
  },
  {
   "cell_type": "markdown",
   "metadata": {},
   "source": [
    "# Conclusion et synthèse\n",
    "\n",
    "Résumez succintement vos résultats et indiquez sous quelles conditions vous utiliseriez chacun des algorithmes."
   ]
  },
  {
   "cell_type": "markdown",
   "metadata": {},
   "source": [
    "*Insérer votre réponse ici*"
   ]
  }
 ],
 "metadata": {
  "kernelspec": {
   "display_name": "Python 3",
   "language": "python",
   "name": "python3"
  },
  "language_info": {
   "codemirror_mode": {
    "name": "ipython",
    "version": 3
   },
   "file_extension": ".py",
   "mimetype": "text/x-python",
   "name": "python",
   "nbconvert_exporter": "python",
   "pygments_lexer": "ipython3",
   "version": "3.11.8"
  }
 },
 "nbformat": 4,
 "nbformat_minor": 2
}
