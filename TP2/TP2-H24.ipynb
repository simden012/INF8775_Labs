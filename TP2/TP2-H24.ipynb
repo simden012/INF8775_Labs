{
 "cells": [
  {
   "cell_type": "markdown",
   "metadata": {},
   "source": [
    "# INF8775 – Analyse et conception d’algorithmes\n",
    "# TP2 – Hiver 2024"
   ]
  },
  {
   "cell_type": "markdown",
   "metadata": {},
   "source": [
    "Denis, Simon, 2152269\n",
    "\n",
    "Mili, Haroun, 2144744"
   ]
  },
  {
   "cell_type": "markdown",
   "metadata": {},
   "source": [
    "Note finale :"
   ]
  },
  {
   "cell_type": "markdown",
   "metadata": {},
   "source": [
    " <u>**Date limite de remise :**</u>  27 mars 23h59 (Groupe B1), 19 mars 23h59 (Groupe B2)"
   ]
  },
  {
   "cell_type": "markdown",
   "metadata": {},
   "source": [
    "# Instructions\n",
    "\n",
    "## Rédaction et remise du rapport\n",
    "\n",
    "- Ce notebook constitue à la fois le sujet du TP, votre code et votre rapport. Il contient déjà du code pour faciliter vos mesures et l'affichage de vos résultats, ainsi qu'un squelette pour votre rapport.\n",
    "\n",
    "- Complétez directement le notebook, vous êtes libres de créer de nouvelles cellules de code ou de texte. \n",
    "\n",
    "- Remettez le fichier du notebook sur Moodle avec le nom `NOM1_MATRICULE1_NOM2_MATRICULE2.ipynb`\n",
    "\n",
    "- Vous pouvez inclure du code trouvé sur Internet, mais vous devez en mentionner la source, sous peine d'être sanctionnés pour plagiat.\n",
    "\n",
    "## Mise en situation\n",
    "\n",
    "Ce travail pratique se répartit sur deux séances de laboratoire et porte sur l'analyse et la conception d'algorithmes développés suivant différents patrons de conception afin de résoudre une version simplifiée d'un problème réaliste d'optimisation.\n",
    "\n",
    "\n",
    "## Description du problème\n",
    "\n",
    "Un pianiste souhaite jouer une mélodie donnée par une partition. La mélodie est une suite de n notes *(a0, a1, ... , an-1)* où chaque ai appartient à un ensemble de m notes numérotées de 0 à m-1.\n",
    "\n",
    "Le pianiste peut choisir de jouer chaque note avec l’un de ses D doigts. Le passage de la note i1 jouée avec le doigt d1 à la note i2 jouée avec le doigt d2 est pénalisée par une fonction de difficulté de la transition *C(i1, d1, i2, d2)*. Notre pianiste souhaite donc déterminer avec quel doigt il doit jouer chaque note de la mélodie de façon à minimiser la somme des coûts de chaque transition.\n",
    "\n",
    "Pour la partie empirique de ce TP, nous nous limiterons à des mélodies jouées à une main (D=5) sur deux octaves (m=24).\n",
    "\n",
    "Soit l’exemple suivant avec 5 notes :\n",
    "\n",
    "- L'exemplaire est : `[17, 21, 18, 2, 21, 15, 11, 16]`\n",
    "- La solution est : `[2, 1, 1, 0, 1, 1, 2, 1]`\n",
    "\n",
    "La figure ci-dessous représente la partition avec ça solution et le coût associé à chaque transition (en gris)."
   ]
  },
  {
   "cell_type": "markdown",
   "metadata": {},
   "source": [
    "![alt text](example_solution.png \"Title\")"
   ]
  },
  {
   "cell_type": "markdown",
   "metadata": {},
   "source": [
    "## Algorithmes à implanter\n",
    "\n",
    "Trois algorithmes seront implantés, mettant en pratique des patrons de conception différents :\n",
    "\n",
    "1. Un algorithme glouton\n",
    "2. Un algorithme de programmation dynamique\n",
    "3. Un algorithme de recherche locale"
   ]
  },
  {
   "cell_type": "markdown",
   "metadata": {},
   "source": [
    "\n",
    "## Jeu de données\n",
    "\n",
    "La fonction `generate_sample` ci-dessous permet de générer un exemplaire d'une taille donnée.\n",
    "\n",
    "La fonction `get_dataset` permet de récupérer un dataset pour la liste de taille fournie. Elle prend également en entrée un graine aléatoire pour générer le dataset en question.\n",
    "\n",
    "Afin que chaque groupe travaille avec un set différent, mais que vos propres expériences soient reproductibles, entrez l'un de vous matricule comme graine aléatoire dans la cellule ci-dessous.\n",
    "\n",
    "Vous êtes bien entendu libres de tester et mesurer vos algorithme sur le même dataset qu'un autre groupe. Pour cela, générez simplement un dataset avec la même graine et la même liste de taille.\n",
    "\n"
   ]
  },
  {
   "cell_type": "code",
   "execution_count": 2,
   "metadata": {},
   "outputs": [],
   "source": [
    "import numpy as np\n",
    "import matplotlib.pyplot as plt\n",
    "from matplotlib.ticker import MaxNLocator\n",
    "from scipy.stats import linregress\n",
    "import time\n",
    "import sys"
   ]
  },
  {
   "cell_type": "code",
   "execution_count": 3,
   "metadata": {},
   "outputs": [],
   "source": [
    "def visualize_solution(costs, partition, solution):\n",
    "    \"\"\"\n",
    "    Visualisez votre solution et les coûts associés.    \n",
    "    \"\"\"\n",
    "    # Create a figure and axis\n",
    "    _, ax = plt.subplots()\n",
    "    \n",
    "    # Plot the notes as circles with their sizes proportional to the partition values\n",
    "    for i in range(len(partition)):\n",
    "        ax.scatter([i], [partition[i]], marker='o')\n",
    "        ax.text(i, partition[i] + 0.2, str(solution[i]), ha='center', va='bottom')\n",
    "    \n",
    "    # Set the limits for the axes to fit the plot\n",
    "    ax.set_ylim(min(partition) - 1, max(partition) + 1)\n",
    "    ax.set_xlim(-0.5, len(partition)-0.5)\n",
    "    \n",
    "    # Label the axes\n",
    "    ax.set_xlabel('Partition')\n",
    "    ax.set_ylabel('Note')\n",
    "    ax.yaxis.set_major_locator(MaxNLocator(integer=True))\n",
    "    \n",
    "    # Title the plot\n",
    "    ax.set_title('Partition et doigts utilisés')\n",
    "\n",
    "    plot_costs = getCosts(costs, partition, solution).tolist()\n",
    "    plot_costs.append(0)\n",
    "\n",
    "    ax2 = ax.twinx()\n",
    "    ax2.bar(range(len(partition)), plot_costs, width=1, alpha=0.5, align='edge', color='gray')\n",
    "    ax2.set_xlim(-0.5, len(partition)-0.5)\n",
    "    ax2.set_ylim(0, 100)\n",
    "    \n",
    "    # Remove the ticks and tick labels from the secondary y-axis\n",
    "    ax2.tick_params(axis='both', which='both', length=0)\n",
    "    ax2.set_yticklabels([])\n",
    "    ax2.spines['top'].set_visible(False)\n",
    "    ax2.spines['right'].set_visible(False)\n",
    "    ax2.spines['bottom'].set_visible(False)\n",
    "    ax2.spines['left'].set_visible(False)    \n",
    "    # Show the plot\n",
    "    plt.show()\n",
    "\n",
    "def generate_sample(size, maxValue=24):\n",
    "    return np.random.randint(0, maxValue, size).tolist()\n",
    "\n",
    "def get_dataset(seed, sizes):\n",
    "    np.random.seed(seed)\n",
    "    return { size: [generate_sample(size) for _ in range(5)]\n",
    "        for size in sizes }\n",
    "\n",
    "def readFile(filePath):\n",
    "    \"\"\"\n",
    "    Charger une partition depuis un fichier\n",
    "    \"\"\"\n",
    "    f = open(filePath)\n",
    "    N = int(f.readline())\n",
    "    partition = list(map(int, f.readline().split(' ')))\n",
    "    f.close()\n",
    "    return partition\n",
    "\n",
    "def getCosts(costs, partition, solution):\n",
    "    \"\"\"\n",
    "    Liste des coûts associés à chaque transition de votre solution.\n",
    "    \"\"\"\n",
    "    prevNotes, nextNotes = partition[:-1], partition[1:]\n",
    "    prevFingers, nextFingers = solution[:-1], solution[1:]\n",
    "    return costs[prevNotes, prevFingers, nextNotes, nextFingers]\n",
    "\n",
    "def getTotalCost(costs, partition, solution):\n",
    "    \"\"\"\n",
    "    Coût total de votre solution\n",
    "    \"\"\"\n",
    "    return np.sum(getCosts(costs, partition, solution))"
   ]
  },
  {
   "cell_type": "markdown",
   "metadata": {},
   "source": [
    "Exécutez la cellule suivante afin d'obtenir le tenseur des coûts associé à chaque transition."
   ]
  },
  {
   "cell_type": "code",
   "execution_count": 4,
   "metadata": {},
   "outputs": [],
   "source": [
    "load_file = np.loadtxt('cout_transition.txt', dtype=int)\n",
    "costs = load_file.reshape((24, 5, 24, 5))\n",
    "D = 5    # Nombre de doigts\n",
    "M = 24   # Etendue des notes (2 octaves)\n",
    "\n",
    "partition = readFile('Chansons/twinkle_twinkle.txt')"
   ]
  },
  {
   "cell_type": "markdown",
   "metadata": {},
   "source": [
    "# Implantations et expérimentations"
   ]
  },
  {
   "cell_type": "markdown",
   "metadata": {},
   "source": [
    "Ces fonctions auxiliaires vous sont fournies pour vérifier l'exactitude des vos algorithmes, mesurer leurs performance et afficher vos résultats.\n",
    "\n",
    "Il est recommandé de prendre le temps de lire et comprendre le code.\n",
    "\n",
    "Exécutez la cellule ci-dessous pour pouvoir utiliser les fonctions auxiliaires."
   ]
  },
  {
   "cell_type": "code",
   "execution_count": 5,
   "metadata": {},
   "outputs": [],
   "source": [
    "def measure(procedure, sample):\n",
    "    \"\"\" Mesure le temps d'execution d'une procédure sur un unique exemplaire \"\"\"\n",
    "    start = time.time()\n",
    "    solution = procedure(sample)\n",
    "    end = time.time()\n",
    "    sorting_time = end - start\n",
    "    return solution, sorting_time\n",
    "\n",
    "\n",
    "def measure_mean_time(procedure, samples):\n",
    "    total_time = 0\n",
    "    for i in range(len(samples)):\n",
    "        sample = samples[i]\n",
    "        _, compute_time = measure(procedure, sample)\n",
    "        total_time += compute_time\n",
    "        print(f\"Computing {procedure.__name__} on sample {i+1} of size {len(sample)}...          \", end='\\r')\n",
    "    return total_time / len(samples)\n",
    "\n",
    "\n",
    "def measure_procedure(procedure, dataset):\n",
    "    \"\"\" Mesure les temps moyens d'execution d'une procédure sur chaque point d'un dataset \"\"\"\n",
    "    return {size: measure_mean_time(procedure, samples) for size, samples in dataset.items()}\n",
    "\n",
    "def display_measures_table(measures):\n",
    "    print(\"{: <12} {: <12}\".format(\"Taille\", \"Temps moyen (s)\"))\n",
    "    for size, measure in measures.items():\n",
    "        print(\"{: <12} {: <12}\".format(size, measure))\n",
    "\n",
    "\n",
    "def display_test_puissance(vals, title=\"Test de puissance\"):\n",
    "    x = list(vals.keys())\n",
    "    y = list(vals.values())\n",
    "\n",
    "    # Perform linear regression\n",
    "    m, b, rvalue, _, _ = linregress(x, y)\n",
    "    r = list(map(lambda x : m*x + b, x))\n",
    "\n",
    "    # Create the line equation\n",
    "    line_eq = f\"y = {m:.2f}x + {b:.2f}\"\n",
    "\n",
    "    # Plot the points\n",
    "    plt.scatter(x, y, label='Mesures')\n",
    "\n",
    "    # Plot the regression line\n",
    "    plt.plot(x, r, color=\"red\", label=f'Regression linéaire R²={round(rvalue**2,4)}')\n",
    "\n",
    "    # Add labels and title\n",
    "    plt.xlabel('log Taille')\n",
    "    plt.ylabel('log Temps')\n",
    "    plt.title(title)\n",
    "\n",
    "    # Add legend\n",
    "    plt.legend(bbox_to_anchor=(0.60, 0), loc='lower left')\n",
    "\n",
    "    # Display the line equation\n",
    "    plt.text(min(x), max(y), line_eq)\n",
    "\n",
    "    # Show the plot\n",
    "    plt.show()\n",
    "\n",
    "def display_test_rapport(vals, title=\"Test du rapport\"):\n",
    "    x = list(vals.keys())\n",
    "    y = list(vals.values())\n",
    "\n",
    "    plt.plot(x, y, label='Mesures')\n",
    "    plt.scatter(x, y, label='Mesures')\n",
    "\n",
    "    # Add labels and title\n",
    "    plt.xlabel('Taille')\n",
    "    plt.ylabel('Temps / f(taille)')\n",
    "    plt.title(title)\n",
    "    plt.show()\n",
    "\n",
    "\n",
    "def display_test_constantes(vals, title=\"Test des constantes\"):\n",
    "    x = list(vals.keys())\n",
    "    y = list(vals.values())\n",
    "\n",
    "    # Perform linear regression\n",
    "    m, b, rvalue, _, _ = linregress(x, y)\n",
    "\n",
    "    r = list(map(lambda x : m*x + b, x))\n",
    "\n",
    "    # Create the line equation\n",
    "    line_eq = f\"y = {m:.2E}x + {b:.2E}\"\n",
    "\n",
    "    # Plot the points\n",
    "    plt.scatter(x, y, label='Mesures')\n",
    "\n",
    "    # Plot the regression line\n",
    "    plt.plot(x, r, color=\"red\", label=f'Regression linéaire R²={round(rvalue**2,4)}')\n",
    "\n",
    "    # Add labels and title\n",
    "    plt.xlabel('f(Taille)')\n",
    "    plt.ylabel('Temps')\n",
    "    plt.title(title)\n",
    "\n",
    "    # Add legend\n",
    "    plt.legend(bbox_to_anchor=(0.60, 0), loc='lower left')\n",
    "\n",
    "    # Display the line equation\n",
    "    plt.text(min(x), max(y), line_eq)\n",
    "\n",
    "    # Show the plot\n",
    "    plt.show()"
   ]
  },
  {
   "cell_type": "markdown",
   "metadata": {},
   "source": [
    "## Partie 1 : Algorithme glouton"
   ]
  },
  {
   "cell_type": "markdown",
   "metadata": {},
   "source": [
    "Implantez un algorithme suivant le patron de conception glouton.\n",
    "\n",
    "L'algorithme glouton fait son choix en fonction du coût de la prochaine transition :\n",
    "\n",
    "Les deux premiers doigts d0 et d1 sont choisis de façon à minimiser C(a0, d0, a1, d1). Puis, étant donné le\n",
    "doigt précédent d et la transition de la note i vers la note j, le choix glouton porte sur le doigt d’ qui\n",
    "minimise C(i, d, j, d’).\n",
    "\n",
    "Tentez de rendre votre implantation la plus performante possible en évitant des calculs inutiles."
   ]
  },
  {
   "cell_type": "code",
   "execution_count": 6,
   "metadata": {},
   "outputs": [
    {
     "name": "stdout",
     "output_type": "stream",
     "text": [
      "Coût Glouton : 55\n"
     ]
    },
    {
     "data": {
      "image/png": "[encoded data removed]",
      "text/plain": [
       "<Figure size 640x480 with 2 Axes>"
      ]
     },
     "metadata": {},
     "output_type": "display_data"
    }
   ],
   "source": [
    "def glouton(partition, doigts = D):\n",
    "    solution = [0]\n",
    "    for i in range(1, len(partition)):\n",
    "        smallest_cost = sys.maxsize\n",
    "        next_finger = solution[i-1]\n",
    "        if partition[i] <= partition[i - 1]:\n",
    "            for j in range(doigts):\n",
    "                next_finger_cost = costs[partition[i-1], solution[i-1], partition[i], j]\n",
    "                if next_finger_cost <= smallest_cost:\n",
    "                    smallest_cost = next_finger_cost\n",
    "                    next_finger = j\n",
    "        else: \n",
    "            for j in range(doigts-1, 0, -1):\n",
    "                next_finger_cost = costs[partition[i-1], solution[i-1], partition[i], j]\n",
    "                if next_finger_cost <= smallest_cost:\n",
    "                    smallest_cost = next_finger_cost\n",
    "                    next_finger = j\n",
    "        solution.append(next_finger)\n",
    "    return solution\n",
    "\n",
    "solutionGlouton = glouton(partition)\n",
    "print(\"Coût Glouton :\", getTotalCost(costs, partition, solutionGlouton))\n",
    "visualize_solution(costs, partition, solutionGlouton)"
   ]
  },
  {
   "cell_type": "markdown",
   "metadata": {},
   "source": [
    "### Analyse asymptotique\n",
    "\n",
    "Dans cette analyse, vous tiendrez compte à la fois de la longueur de la mélodie mais également du\n",
    "nombre de doigts pour chacun des trois algorithmes."
   ]
  },
  {
   "cell_type": "markdown",
   "metadata": {},
   "source": [
    "*Insérer votre réponse ici*"
   ]
  },
  {
   "cell_type": "markdown",
   "metadata": {},
   "source": [
    "### Mesures\n",
    "\n",
    "Rapportez dans un tableau les temps d'exécutions moyens avec les fonctions auxiliaires `measure_procedure` et `display_measure_table`"
   ]
  },
  {
   "cell_type": "code",
   "execution_count": null,
   "metadata": {},
   "outputs": [],
   "source": []
  },
  {
   "cell_type": "markdown",
   "metadata": {},
   "source": [
    "### Validation empirique\n",
    "\n",
    "Servez-vous de vos temps d'exécution pour confirmer et/ou préciser l'analyse asymptotique théorique de vos algorithmes avec la méthode hybride de votre choix.\n",
    "\n",
    "La méthode peut varier d'un algorithme à l'autre. Justifiez les choix ici et avec des graphiques."
   ]
  },
  {
   "cell_type": "code",
   "execution_count": null,
   "metadata": {},
   "outputs": [],
   "source": []
  },
  {
   "cell_type": "markdown",
   "metadata": {},
   "source": [
    "*Insérer votre réponse ici*"
   ]
  },
  {
   "cell_type": "markdown",
   "metadata": {},
   "source": [
    "## Partie 2 : Algorithme de programmation dynamique"
   ]
  },
  {
   "cell_type": "markdown",
   "metadata": {},
   "source": [
    "L'algorithme de programmation dynamique remplit un tableau des coûts de transition optimaux en\n",
    "fonction de la mélodie.\n",
    "\n",
    "Notons `J(k, d)` la somme minimale des coût de transition associée à la mélodie `(ak, ... , an−1)` (c’est-à-\n",
    "dire au suffixe de longueur `n - k` de la mélodie de départ) où l’on joue la première note ak avec le doigt\n",
    "d.\n",
    "\n",
    "Alors, J vérifie la relation de récurrence (1) :\n",
    "\n",
    "J(k, d) = min { 0≤ d’ ≤ D-1} [ C(ak, d, ak+1, d’ ) + J(k + 1, d’ ) ]\n",
    "\n",
    "et la condition terminale (2) :\n",
    "\n",
    "J(n - 1, d) = 0, ∀d = 0, ... , D - 1\n",
    "\n",
    "Comme on ne connaît pas le premier doigt à utiliser a priori, la solution au problème original est\n",
    "donnée par (3) :\n",
    "\n",
    "min { 0 ≤ d ≤ D-1} J(0, d)\n",
    "\n",
    "Cette récurrence est résolue par programmation dynamique pour déterminer la solution au problème.\n",
    "Note : Pour vous aider à vérifier que votre implantation fonctionne correctement, voici deux solutions\n",
    "que vous devriez obtenir avec cet algorithme (dépendant de votre implantation, il pourrait être possible\n",
    "que vous arriviez au même coût, mais avec une différente suite de doigts) :\n",
    "\n",
    "- twinkle_twinkle.txt ; coût = 31; doigts = [0, 0, 4, 3, 4, 4, 3, 2, 2, 1, 1, 0, 1, 0, 4, 4, 3, 3, 2, 2, 0, 4, 4, 3,\n",
    "3, 2, 2, 1, 0, 0, 4, 3, 4, 4, 3, 2, 2, 1, 1, 0, 1, 0]\n",
    "\n",
    "- fur_elise.txt ; coût = 1091; doigts = [1, 0, 1, 0, 1, 0, 4, 4, 4, 0, 1, 4, 4, 0, 1, 3, 4, 0, 4, 0, 1, 0, 1, 0, 4, 4,\n",
    "4, 0, 1, 4, 4, 0, 4, 3, 0, 4, 0, 1, 0, 1, 0, 4, 4, 4, 0, 1, 4, 4, 0, 1, 3, 4, 0, 4, 0, 1, 0, 1, 0, 4, 4, 4, 0, 1, 4, 4, 0,4, 3, 0, 1, 2, 3, 4, 0, 4, 4, 4, 0, 4, 4, 4, 0, 4, 3, 3, 3, 4, 0, 1, 0, 1, 0, 1, 0, 4, 4, 4, 0, 1, 4, 0, 1, 3, 4, 0, 4, 0,\n",
    "1, 0, 1, 0, 4, 4, 4, 0, 1, 4, 4, 0, 4, 3, 0, 1, 2, 3, 4, 0, 4, 4, 4, 0, 4, 4, 4, 0, 4, 3, 3, 3, 4, 0, 1, 0, 1, 0, 1, 0, 4,\n",
    "4, 4, 0, 1, 4, 0, 1, 3, 4, 0, 4, 0, 1, 0, 1, 0, 4, 4, 4, 0, 1, 4, 4, 0, 4, 3, 2, 0, 1, 2, 0, 1, 0, 2, 1, 1, 0, 4, 4, 4, 3,\n",
    "2, 1, 0, 1, 0, 0, 2, 1, 0, 0, 1, 2, 3, 3, 4, 3, 4, 0, 1, 2, 0, 0, 4, 0, 4, 0, 4, 0, 4, 0, 4, 0, 1, 0, 4, 4, 4, 4, 3, 2, 1,\n",
    "0, 4, 3, 1, 0, 4, 0, 4, 0, 4, 0, 4, 0, 4, 0, 1, 0, 4, 4, 4, 4, 3, 2, 1, 0, 2, 1, 0, 1, 2, 1, 0, 1, 0, 1, 0, 1, 0, 1, 0, 1,\n",
    "0, 1, 0, 1, 0, 1, 0, 1, 0, 1, 0, 1, 0, 1, 0, 1, 0, 4, 4, 4, 0, 1, 4, 4, 0, 1, 3, 4, 0, 4, 0, 1, 0, 1, 0, 4, 4, 4, 0, 1, 4,\n",
    "4, 0, 4, 3, 0, 1, 2, 3, 4, 0, 4, 4, 4, 0, 4, 4, 4, 0, 4, 4, 4, 0, 4, 4, 4, 4]\n",
    "\n",
    "Implantez l'algorithme de programmation dynamique."
   ]
  },
  {
   "cell_type": "code",
   "execution_count": 42,
   "metadata": {},
   "outputs": [
    {
     "name": "stdout",
     "output_type": "stream",
     "text": [
      "[[1099, 1091, 1091, 1091, 1091], [1090, 1090, 1090, 1090, 1098], [1097, 1089, 1089, 1089, 1089], [1088, 1088, 1088, 1088, 1096], [1106, 1087, 1087, 1087, 1087], [1086, 1095, 1086, 1095, 1103], [1098, 1110, 1104, 1094, 1085], [1109, 1103, 1103, 1085, 1076], [1102, 1104, 1097, 1067, 1058], [1057, 1059, 1060, 1092, 1100], [1048, 1056, 1070, 1074, 1082], [1047, 1059, 1050, 1047, 1055], [1081, 1098, 1085, 1055, 1046], [1045, 1062, 1070, 1079, 1087], [1044, 1044, 1052, 1061, 1069], [1043, 1055, 1046, 1043, 1051], [1086, 1095, 1081, 1051, 1042], [1041, 1050, 1080, 1103, 1103], [1048, 1040, 1040, 1040, 1040], [1039, 1039, 1039, 1039, 1047], [1046, 1038, 1038, 1038, 1038], [1037, 1037, 1037, 1037, 1045], [1055, 1036, 1036, 1036, 1036], [1035, 1044, 1035, 1044, 1052], [1047, 1059, 1053, 1043, 1034], [1058, 1052, 1052, 1034, 1025], [1051, 1053, 1046, 1016, 1007], [1006, 1008, 1009, 1041, 1049], [997, 1005, 1019, 1023, 1031], [996, 1008, 999, 996, 1004], [1030, 1039, 1034, 1004, 995], [994, 1003, 1033, 1038, 1038], [1003, 1001, 993, 993, 993], [1000, 992, 992, 992, 992], [991, 1000, 1026, 1026, 1026], [998, 990, 990, 990, 990], [989, 989, 989, 989, 997], [996, 988, 988, 988, 988], [987, 987, 987, 987, 995], [1005, 986, 986, 986, 986], [985, 994, 985, 994, 1002], [997, 1009, 1003, 993, 984], [1008, 1002, 1002, 984, 975], [1001, 1003, 996, 966, 957], [956, 958, 959, 991, 999], [947, 955, 969, 973, 981], [946, 958, 949, 946, 954], [980, 997, 984, 954, 945], [944, 961, 969, 978, 986], [943, 943, 951, 960, 968], [942, 954, 945, 942, 950], [985, 994, 980, 950, 941], [940, 949, 979, 1002, 1002], [947, 939, 939, 939, 939], [938, 938, 938, 938, 946], [945, 937, 937, 937, 937], [936, 936, 936, 936, 944], [954, 935, 935, 935, 935], [934, 943, 934, 943, 951], [946, 958, 952, 942, 933], [957, 951, 951, 933, 924], [950, 952, 945, 915, 906], [905, 907, 908, 940, 948], [896, 904, 918, 922, 930], [895, 907, 898, 895, 903], [929, 938, 933, 903, 894], [893, 902, 932, 937, 937], [902, 900, 892, 892, 892], [899, 891, 891, 891, 891], [890, 898, 901, 902, 922], [889, 889, 897, 901, 913], [888, 891, 888, 896, 904], [887, 899, 890, 887, 895], [930, 939, 925, 895, 886], [885, 894, 924, 943, 938], [897, 889, 889, 889, 884], [888, 920, 914, 884, 875], [919, 928, 905, 875, 866], [865, 874, 904, 923, 918], [877, 869, 869, 869, 864], [868, 882, 882, 864, 855], [881, 890, 885, 855, 846], [845, 854, 884, 905, 907], [842, 842, 842, 842, 844], [842, 842, 842, 842, 850], [806, 806, 806, 806, 814], [761, 761, 761, 761, 769], [768, 760, 760, 760, 760], [759, 759, 759, 759, 767], [766, 758, 758, 758, 758], [757, 757, 757, 757, 765], [764, 756, 756, 756, 756], [755, 755, 755, 755, 763], [773, 754, 754, 754, 754], [753, 762, 753, 762, 770], [765, 777, 771, 761, 752], [776, 770, 770, 752, 743], [769, 779, 764, 734, 725], [724, 734, 735, 759, 767], [723, 723, 737, 749, 749], [748, 722, 722, 722, 722], [721, 738, 746, 755, 763], [720, 720, 728, 737, 745], [719, 731, 722, 719, 727], [762, 771, 757, 727, 718], [717, 726, 756, 779, 779], [724, 716, 716, 716, 716], [715, 715, 715, 715, 723], [722, 714, 714, 714, 714], [713, 713, 713, 713, 721], [731, 712, 712, 712, 712], [711, 720, 711, 720, 728], [723, 735, 729, 719, 710], [734, 728, 728, 710, 701], [727, 729, 722, 692, 683], [682, 684, 685, 717, 725], [673, 681, 695, 699, 707], [672, 684, 675, 672, 680], [706, 715, 710, 680, 671], [670, 679, 709, 714, 714], [679, 677, 669, 669, 669], [676, 668, 668, 668, 668], [667, 675, 678, 679, 699], [666, 666, 674, 678, 690], [665, 668, 665, 673, 681], [664, 676, 667, 664, 672], [707, 716, 702, 672, 663], [662, 671, 701, 720, 715], [674, 666, 666, 666, 661], [665, 697, 691, 661, 652], [696, 705, 682, 652, 643], [642, 651, 681, 700, 695], [654, 646, 646, 646, 641], [645, 659, 659, 641, 632], [658, 667, 662, 632, 623], [622, 631, 661, 682, 684], [619, 619, 619, 619, 621], [619, 619, 619, 619, 627], [583, 583, 583, 583, 591], [538, 538, 538, 538, 546], [545, 537, 537, 537, 537], [536, 536, 536, 536, 544], [543, 535, 535, 535, 535], [534, 534, 534, 534, 542], [541, 533, 533, 533, 533], [532, 532, 532, 532, 540], [550, 531, 531, 531, 531], [530, 539, 530, 539, 547], [542, 554, 548, 538, 529], [553, 547, 547, 529, 520], [546, 556, 541, 511, 502], [501, 511, 512, 536, 544], [500, 500, 514, 526, 526], [525, 499, 499, 499, 499], [498, 515, 523, 532, 540], [497, 497, 505, 514, 522], [496, 508, 499, 496, 504], [539, 548, 534, 504, 495], [494, 503, 533, 556, 556], [501, 493, 493, 493, 493], [492, 492, 492, 492, 500], [499, 491, 491, 491, 491], [490, 490, 490, 490, 498], [508, 489, 489, 489, 489], [488, 497, 488, 497, 505], [500, 512, 506, 496, 487], [511, 505, 505, 487, 478], [504, 506, 499, 469, 460], [459, 461, 462, 494, 502], [450, 458, 472, 476, 484], [449, 461, 452, 449, 457], [483, 492, 487, 457, 448], [447, 456, 486, 491, 491], [457, 456, 454, 446, 446], [455, 453, 445, 445, 445], [454, 444, 444, 444, 444], [443, 443, 443, 451, 459], [442, 442, 442, 442, 450], [449, 441, 441, 441, 441], [440, 440, 441, 482, 490], [429, 439, 440, 464, 472], [428, 428, 442, 454, 454], [437, 429, 427, 427, 427], [428, 426, 426, 426, 426], [434, 426, 426, 426, 426], [425, 434, 462, 461, 460], [429, 428, 426, 425, 424], [429, 428, 426, 425, 424], [436, 434, 426, 425, 424], [433, 425, 424, 423, 421], [424, 423, 422, 420, 412], [422, 421, 419, 411, 411], [420, 418, 410, 410, 410], [419, 409, 409, 409, 409], [408, 408, 408, 408, 410], [408, 408, 408, 408, 416], [417, 415, 407, 407, 407], [414, 406, 406, 406, 406], [405, 406, 407, 409, 437], [396, 404, 405, 406, 428], [393, 395, 403, 405, 419], [392, 392, 394, 402, 410], [391, 393, 391, 393, 401], [391, 393, 391, 393, 401], [390, 392, 392, 390, 392], [390, 402, 393, 390, 398], [433, 433, 428, 398, 389], [388, 388, 396, 405, 413], [387, 387, 387, 387, 395], [398, 386, 386, 386, 386], [385, 387, 388, 389, 420], [376, 385, 415, 420, 411], [437, 446, 414, 384, 375], [374, 383, 413, 445, 436], [426, 435, 412, 382, 373], [372, 381, 411, 434, 425], [415, 424, 410, 380, 371], [370, 379, 409, 423, 414], [404, 413, 408, 378, 369], [368, 377, 403, 403, 403], [377, 367, 367, 367, 367], [366, 366, 380, 392, 392], [376, 365, 365, 365, 365], [364, 372, 364, 373, 381], [375, 374, 373, 371, 363], [357, 356, 355, 353, 345], [357, 356, 355, 353, 345], [348, 347, 346, 344, 336], [346, 345, 343, 335, 335], [344, 342, 334, 334, 334], [341, 333, 333, 333, 333], [332, 332, 346, 361, 358], [343, 341, 339, 339, 331], [340, 338, 338, 330, 330], [337, 329, 329, 329, 329], [328, 337, 367, 372, 363], [389, 398, 366, 336, 327], [326, 335, 365, 397, 388], [378, 387, 364, 334, 325], [324, 333, 363, 386, 377], [367, 376, 362, 332, 323], [322, 331, 361, 375, 366], [356, 365, 360, 330, 321], [320, 329, 355, 355, 355], [329, 319, 319, 319, 319], [318, 318, 332, 344, 344], [328, 317, 317, 317, 317], [316, 324, 316, 325, 333], [327, 326, 325, 323, 315], [309, 308, 307, 305, 297], [309, 308, 307, 305, 297], [300, 299, 298, 296, 288], [298, 297, 295, 287, 287], [296, 294, 286, 286, 286], [293, 285, 285, 285, 285], [284, 284, 298, 310, 310], [293, 291, 283, 283, 283], [292, 282, 282, 282, 282], [281, 281, 281, 289, 297], [280, 280, 280, 280, 288], [289, 287, 279, 279, 279], [286, 278, 278, 278, 278], [277, 277, 277, 277, 285], [286, 276, 276, 276, 276], [275, 275, 289, 301, 301], [282, 274, 274, 274, 274], [273, 273, 273, 273, 281], [282, 272, 272, 272, 272], [271, 271, 285, 297, 297], [278, 270, 270, 270, 270], [269, 269, 269, 269, 277], [278, 268, 268, 268, 268], [267, 267, 281, 293, 293], [274, 266, 266, 266, 266], [265, 265, 265, 265, 273], [274, 264, 264, 264, 264], [263, 263, 277, 289, 289], [270, 262, 262, 262, 262], [261, 261, 261, 261, 269], [268, 260, 260, 260, 260], [259, 259, 259, 259, 267], [266, 258, 258, 258, 258], [257, 257, 257, 257, 265], [264, 256, 256, 256, 256], [255, 255, 255, 255, 263], [262, 254, 254, 254, 254], [253, 253, 253, 253, 261], [271, 252, 252, 252, 252], [251, 260, 251, 260, 268], [263, 275, 269, 259, 250], [274, 268, 268, 250, 241], [267, 269, 262, 232, 223], [222, 224, 225, 257, 265], [213, 221, 235, 239, 247], [212, 224, 215, 212, 220], [246, 263, 250, 220, 211], [210, 227, 235, 244, 252], [209, 209, 217, 226, 234], [208, 220, 211, 208, 216], [251, 260, 246, 216, 207], [206, 215, 245, 268, 268], [213, 205, 205, 205, 205], [204, 204, 204, 204, 212], [211, 203, 203, 203, 203], [202, 202, 202, 202, 210], [220, 201, 201, 201, 201], [200, 209, 200, 209, 217], [212, 224, 218, 208, 199], [223, 217, 217, 199, 190], [216, 218, 211, 181, 172], [171, 173, 174, 206, 214], [162, 170, 184, 188, 196], [161, 173, 164, 161, 169], [195, 204, 199, 169, 160], [159, 168, 198, 203, 203], [168, 166, 158, 158, 158], [165, 157, 157, 157, 157], [156, 164, 167, 168, 188], [155, 155, 163, 167, 179], [154, 157, 154, 162, 170], [153, 165, 156, 153, 161], [196, 205, 191, 161, 152], [151, 160, 190, 213, 204], [163, 168, 160, 159, 150], [174, 159, 159, 150, 141], [158, 167, 162, 132, 123], [122, 131, 161, 180, 175], [134, 126, 126, 126, 121], [125, 148, 148, 121, 112], [147, 156, 142, 112, 103], [102, 111, 141, 160, 155], [114, 106, 106, 106, 101], [105, 119, 119, 101, 92], [118, 127, 122, 92, 83], [82, 91, 121, 144, 144], [81, 81, 81, 81, 81], [81, 81, 81, 81, 81], [45, 45, 45, 45, 45], [0, 0, 0, 0, 0]]\n",
      "339\n",
      "[1, 0, 1, 0, 1, 0, 4, 4, 4, 0, 1, 4, 4, 0, 1, 3, 4, 0, 4, 0, 1, 0, 1, 0, 4, 4, 4, 0, 1, 4, 4, 0, 4, 3, 0, 4, 0, 1, 0, 1, 0, 4, 4, 4, 0, 1, 4, 4, 0, 1, 3, 4, 0, 4, 0, 1, 0, 1, 0, 4, 4, 4, 0, 1, 4, 4, 0, 4, 3, 0, 1, 2, 3, 4, 0, 4, 4, 4, 0, 4, 4, 4, 0, 4, 3, 3, 3, 4, 0, 1, 0, 1, 0, 1, 0, 4, 4, 4, 0, 1, 4, 0, 1, 3, 4, 0, 4, 0, 1, 0, 1, 0, 4, 4, 4, 0, 1, 4, 4, 0, 4, 3, 0, 1, 2, 3, 4, 0, 4, 4, 4, 0, 4, 4, 4, 0, 4, 3, 3, 3, 4, 0, 1, 0, 1, 0, 1, 0, 4, 4, 4, 0, 1, 4, 0, 1, 3, 4, 0, 4, 0, 1, 0, 1, 0, 4, 4, 4, 0, 1, 4, 4, 0, 4, 3, 2, 0, 1, 2, 0, 1, 0, 2, 1, 1, 0, 4, 4, 4, 3, 2, 1, 0, 1, 0, 0, 2, 1, 0, 0, 1, 2, 3, 3, 4, 3, 4, 0, 1, 2, 0, 0, 4, 0, 4, 0, 4, 0, 4, 0, 4, 0, 1, 0, 4, 4, 4, 4, 3, 2, 1, 0, 4, 3, 1, 0, 4, 0, 4, 0, 4, 0, 4, 0, 4, 0, 1, 0, 4, 4, 4, 4, 3, 2, 1, 0, 2, 1, 0, 1, 2, 1, 0, 1, 0, 1, 0, 1, 0, 1, 0, 1, 0, 1, 0, 1, 0, 1, 0, 1, 0, 1, 0, 1, 0, 1, 0, 1, 0, 4, 4, 4, 0, 1, 4, 4, 0, 1, 3, 4, 0, 4, 0, 1, 0, 1, 0, 4, 4, 4, 0, 1, 4, 4, 0, 4, 3, 0, 1, 2, 3, 4, 0, 4, 4, 4, 0, 4, 4, 4, 0, 4, 4, 4, 0, 4, 4, 4, 4]\n",
      "Coût Programmation Dynamique : 1091\n"
     ]
    }
   ],
   "source": [
    "def progDyn(partition, doigts: int = D ):\n",
    "    solution = [0 for _ in range(len(partition))]\n",
    "    table_J = [[0 for _ in range(doigts)] for _ in range(len(partition))]\n",
    "    finger_choice = [[0 for _ in range(doigts)] for _ in range(len(partition))]\n",
    "    #filling the table_J 2D array\n",
    "    for i in range(len(partition) - 2, -1, -1):\n",
    "        for finger in range(doigts):\n",
    "            finger_costs = [(costs[partition[i], finger, partition[i + 1], d] + table_J[i + 1][d]) for d in range(D)]\n",
    "            min_index = finger_costs.index(min(finger_costs))\n",
    "            table_J[i][finger] = min(finger_costs)\n",
    "            finger_choice[i][finger] = min_index\n",
    "            # min_value_index = min(range(D), key=lambda x: finger_costs[x])\n",
    "            # table_J[i][finger] = finger_costs[min_value_index]\n",
    "\n",
    "        # Select the finger that minimizes the cost for the current note\n",
    "        # solution[i] = min(range(doigts), key=lambda x: table_J[i][x])\n",
    "    min_index = table_J[0].index(min(table_J[0]))\n",
    "    for i in range(len(partition)):\n",
    "        solution[i] = min_index\n",
    "        min_index = finger_choice[i][min_index]\n",
    "        # solution[i] = table_J[i].index(min_value)\n",
    "         \n",
    "\n",
    "    print(table_J)\n",
    "    print(len(table_J))\n",
    "\n",
    "    return solution\n",
    "partition = readFile('Chansons/fur_elise.txt')\n",
    "solutionDyn = progDyn(partition)\n",
    "print(solutionDyn)\n",
    "print(\"Coût Programmation Dynamique :\", getTotalCost(costs, partition, solutionDyn))\n",
    "# visualize_solution(costs, partition, solutionDyn)"
   ]
  },
  {
   "cell_type": "markdown",
   "metadata": {},
   "source": [
    "solution twinkle : [0, 0, 4, 3, 4, 4, 3, 2, 2, 1, 1, 0, 1, 0, 4, 4, 3, 3, 2, 2, 0, 4, 4, 3,\n",
    "3, 2, 2, 1, 0, 0, 4, 3, 4, 4, 3, 2, 2, 1, 1, 0, 1, 0]"
   ]
  },
  {
   "cell_type": "markdown",
   "metadata": {},
   "source": [
    "### Analyse asymptotique\n",
    "\n",
    "Dans cette analyse, vous tiendrez compte à la fois de la longueur de la mélodie mais également du\n",
    "nombre de doigts pour chacun des trois algorithmes."
   ]
  },
  {
   "cell_type": "markdown",
   "metadata": {},
   "source": [
    "*Insérer votre réponse ici*"
   ]
  },
  {
   "cell_type": "markdown",
   "metadata": {},
   "source": [
    "### Mesures\n",
    "\n",
    "Rapportez dans un tableau les temps d'exécutions moyens avec les fonctions auxiliaires `measure_procedure` et `display_measure_table`"
   ]
  },
  {
   "cell_type": "code",
   "execution_count": null,
   "metadata": {},
   "outputs": [],
   "source": []
  },
  {
   "cell_type": "markdown",
   "metadata": {},
   "source": [
    "### Validation empirique\n",
    "\n",
    "Servez-vous de vos temps d'exécution pour confirmer et/ou préciser l'analyse asymptotique théorique de vos algorithmes avec la méthode hybride de votre choix.\n",
    "\n",
    "La méthode peut varier d'un algorithme à l'autre. Justifiez les choix ici et avec des graphiques."
   ]
  },
  {
   "cell_type": "code",
   "execution_count": null,
   "metadata": {},
   "outputs": [],
   "source": []
  },
  {
   "cell_type": "markdown",
   "metadata": {},
   "source": [
    "*Insérer votre réponse ici*"
   ]
  },
  {
   "cell_type": "markdown",
   "metadata": {},
   "source": [
    "## Partie 3 : Algorithme de recherche locale"
   ]
  },
  {
   "cell_type": "markdown",
   "metadata": {},
   "source": [
    "Cet algorithme explore le voisinage de solutions non optimales. En partant d’une solution gloutonne, la\n",
    "solution est améliorée en tentant d’échanger un doigt pour un autre sur une note. Vous pourrez prendre\n",
    "comme critère d’arrêt un nombre maximal d’itérations."
   ]
  },
  {
   "cell_type": "code",
   "execution_count": null,
   "metadata": {},
   "outputs": [],
   "source": [
    "def localSearch(partition):\n",
    "    solution = [0 for i in range(len(partition))]\n",
    "    return solution\n",
    "\n",
    "solutionLocal = localSearch(partition)\n",
    "print(\"Coût Recherche Locale :\", getTotalCost(costs, partition, solutionLocal))\n",
    "visualize_solution(costs, partition, solutionLocal)"
   ]
  },
  {
   "cell_type": "markdown",
   "metadata": {},
   "source": [
    "### Analyse asymptotique\n",
    "\n",
    "Dans cette analyse, vous tiendrez compte à la fois de la longueur de la mélodie mais également du\n",
    "nombre de doigts pour chacun des trois algorithmes."
   ]
  },
  {
   "cell_type": "markdown",
   "metadata": {},
   "source": [
    "*Insérer votre réponse ici*"
   ]
  },
  {
   "cell_type": "markdown",
   "metadata": {},
   "source": [
    "### Mesures\n",
    "\n",
    "Rapportez dans un tableau les temps d'exécutions moyens avec les fonctions auxiliaires `measure_procedure` et `display_measure_table`"
   ]
  },
  {
   "cell_type": "code",
   "execution_count": null,
   "metadata": {},
   "outputs": [],
   "source": []
  },
  {
   "cell_type": "markdown",
   "metadata": {},
   "source": [
    "### Validation empirique\n",
    "\n",
    "Servez-vous de vos temps d'exécution pour confirmer et/ou préciser l'analyse asymptotique théorique de vos algorithmes avec la méthode hybride de votre choix.\n",
    "\n",
    "La méthode peut varier d'un algorithme à l'autre. Justifiez les choix ici et avec des graphiques."
   ]
  },
  {
   "cell_type": "code",
   "execution_count": null,
   "metadata": {},
   "outputs": [],
   "source": []
  },
  {
   "cell_type": "markdown",
   "metadata": {},
   "source": [
    "*Insérer votre réponse ici*"
   ]
  },
  {
   "cell_type": "markdown",
   "metadata": {},
   "source": [
    "# Conclusion et synthèse\n",
    "\n",
    "Résumez succintement vos résultats et indiquez sous quelles conditions vous utiliseriez chacun des algorithmes."
   ]
  },
  {
   "cell_type": "markdown",
   "metadata": {},
   "source": [
    "*Insérer votre réponse ici*"
   ]
  }
 ],
 "metadata": {
  "kernelspec": {
   "display_name": "Python 3",
   "language": "python",
   "name": "python3"
  },
  "language_info": {
   "codemirror_mode": {
    "name": "ipython",
    "version": 3
   },
   "file_extension": ".py",
   "mimetype": "text/x-python",
   "name": "python",
   "nbconvert_exporter": "python",
   "pygments_lexer": "ipython3",
   "version": "3.10.11"
  }
 },
 "nbformat": 4,
 "nbformat_minor": 2
}
