{
 "cells": [
  {
   "cell_type": "markdown",
   "metadata": {},
   "source": [
    "# INF8775 – Analyse et conception d’algorithmes\n",
    "# TP1 – Hiver 2021"
   ]
  },
  {
   "cell_type": "markdown",
   "metadata": {},
   "source": [
    "Mili, Haroun, 1234567\n",
    "\n",
    "Denis, Simon, 1234567"
   ]
  },
  {
   "cell_type": "markdown",
   "metadata": {},
   "source": [
    "Note finale :"
   ]
  },
  {
   "cell_type": "markdown",
   "metadata": {},
   "source": [
    " <u>**Date limite de remise :**</u>  21 Février 23h59 (Groupe B1), 13 février 23h59 (Groupe B2)"
   ]
  },
  {
   "cell_type": "markdown",
   "metadata": {},
   "source": [
    "# Instructions\n",
    "\n",
    "## Rédaction et remise du rapport\n",
    "\n",
    "- Ce notebook constitue à la fois le sujet du TP, votre code et votre rapport. Il contient déjà du code pour faciliter vos mesures et l'affichage de vos résultats, ainsi qu'un squelette pour votre rapport.\n",
    "\n",
    "- Complétez directement le notebook, vous êtes libres de créer de nouvelles cellules de code ou de texte. \n",
    "\n",
    "- Les questions et tâches à effectuées sont généralement indiquées par un TODO, mais lisez attentivement car nous pourrions avoir oublié d'en indiquer certaines.\n",
    "\n",
    "- Des questions sont réutilisées d'un algorithme à l'autre (puisque l'on reproduit les expérimentations à des fins de comparaisons). Veillez à suffisament développer les premières réponses afin de l'on comprenne bien votre raisonnement et pour montrer votre bonne compréhension. Vous pourrez être plus concis par la suite.\n",
    "\n",
    "- Remettez le fichier du notebook sur Moodle avec le nom `NOM1_MATRICULE1_NOM2_MATRICULE2.ipynb`\n",
    "\n",
    "- Vous pouvez inclure du code trouvé sur Internet, mais vous devez en mentionner la source, sous peine d'être sanctionnés pour plagiat.\n",
    "\n",
    "## Mise en situation\n",
    "\n",
    "Ce travail pratique se répartit sur deux séances de laboratoire et porte sur l’analyse empirique et hybride des algorithmes. Dans les capsules vidéo de la semaine 3, trois approches d’analyse de l’implantation d’un algorithme sont décrites. Vous les mettrez en pratique pour des algorithmes de résolution d’un problème connu.\n",
    "\n",
    "\n",
    "## Description du problème\n",
    "\n",
    "On vous demande de résoudre le problème de la ligne d’horizon (The Skyline Problem) qui consiste à dessiner la silhouette de bâtiments lorsqu’ils sont vus de loin. Ces bâtiments sont juxtaposés l’un à l’autre et il est possible que l’un en cache un autre.\n",
    "\n",
    "Chaque bâtiment est défini par le triplet `(l, r, h)` avec `h` la hauteur du bâtiment et `l` et `r` les abscisses des murs gauche et droit, respectivement.\n",
    "\n",
    "La solution représente une suite de couples `(x, h)` représentant les coordonnées des points définissant la silhouette des bâtiments.\n",
    "\n",
    "Soit l’exemple suivant avec 5 bâtiments :\n",
    "\n",
    "- L'exemplaire est : `(2, 9, 10), (3, 7, 15), (5, 12, 12), (15, 20, 10),\n",
    "(19, 24, 8)`\n",
    "- La solution est : `(2, 10), (3, 15), (7, 12), (12, 0), (15, 10), (20, 8), (24, 0)`\n",
    "\n",
    "La figure B représente la silhouette (et donc la solution) tracée par les bâtiments colorés de la figure A."
   ]
  },
  {
   "cell_type": "code",
   "execution_count": 179,
   "metadata": {},
   "outputs": [],
   "source": [
    "# Problem data\n",
    "example_buildings = [(2, 9, 10), (3, 7, 15), (5, 12, 12), (15, 20, 10), (19, 24, 8)]\n",
    "\n",
    "# Solution data\n",
    "example_skyline = [(2, 10), (3, 15), (7, 12), (12, 0), (15, 10), (20, 8), (24, 0)]"
   ]
  },
  {
   "cell_type": "code",
   "execution_count": 180,
   "metadata": {},
   "outputs": [
    {
     "data": {
      "image/png": "[encoded data removed]",
      "text/plain": [
       "<Figure size 1000x500 with 2 Axes>"
      ]
     },
     "metadata": {},
     "output_type": "display_data"
    }
   ],
   "source": [
    "import matplotlib.pyplot as plt\n",
    "import numpy as np\n",
    "\n",
    "# Create a figure and a set of subplots with equal width\n",
    "fig, axs = plt.subplots(1, 2, figsize=(10,5), gridspec_kw={'width_ratios': [1, 1]})\n",
    "\n",
    "# Create the first subplot to show the problem data as colored filled rectangles\n",
    "for building in example_buildings:\n",
    " left, right, height = building\n",
    " axs[0].fill([left, right, right, left], [0, 0, height, height])\n",
    "\n",
    "axs[0].set_ylim([0, 20])\n",
    "axs[0].set_aspect('equal')\n",
    "axs[0].set_title('Problem data')\n",
    "\n",
    "# Create the second subplot to plot the skyline as a staircase function\n",
    "x = [x for x, _ in example_skyline]\n",
    "y = [y for _, y in example_skyline]\n",
    "\n",
    "axs[1].step(x, y, where='post', color='black')\n",
    "\n",
    "# Add the solution points as red dots\n",
    "axs[1].plot(x, y, 'ro')\n",
    "\n",
    "axs[1].set_ylim([0, 20])\n",
    "axs[1].set_aspect('equal')\n",
    "axs[1].set_title('Skyline')\n",
    "\n",
    "plt.show()\n"
   ]
  },
  {
   "cell_type": "markdown",
   "metadata": {},
   "source": [
    "## Algorithmes à implanter\n",
    "\n",
    "On vous demande de résoudre ce problème de 3 façons différentes :\n",
    "\n",
    "1. En utilisant un algorithme force brute simple ;\n",
    "2. En utilisant un algorithme diviser pour régner ;\n",
    "3. En utilisant un algorithme diviser pour régner avec seuil de récursivité non élémentaire.\n",
    "\n",
    "Pour l’algorithme 3, vous devrez déterminer un seuil de récursivité expérimentalement. Les exemplaires dont la taille est en deçà de ce seuil ne sont plus résolus récursivement mais plutôt directement avec l’algorithme 1.\n",
    "\n",
    "Vos algorithmes doivent donner des réponses où les couples `(x, h)` sont triés de façon non décroissante selon x (cf. exemple plus haut). Par ailleurs, ils ne doivent pas donner de solutions avec couples redondants, i.e. deux couples qui se suivent ne peuvent pas avoir la même hauteur ni la même abscisse. "
   ]
  },
  {
   "cell_type": "markdown",
   "metadata": {},
   "source": [
    "\n",
    "## Jeu de données\n",
    "\n",
    "La fonction `generate_sample` ci-dessous permet de générer un exemplaire d'une taille donnée.\n",
    "\n",
    "La fonction `get_dataset` permet de récupérer un dataset pour la liste de taille fournie. Elle prend également en entrée un graine aléatoire pour générer le dataset en question.\n",
    "\n",
    "Afin que chaque groupe travaille avec un set différent, mais que vos propres expériences soient reproductibles, entrez l'un de vous matricule comme graine aléatoire dans la cellule ci-dessous.\n",
    "\n",
    "Vous êtes bien entendu libres de tester et mesurer vos algorithme sur le même dataset qu'un autre groupe. Pour cela, générez simplement un dataset avec la même graine et la même liste de taille.\n",
    "\n"
   ]
  },
  {
   "cell_type": "code",
   "execution_count": 181,
   "metadata": {},
   "outputs": [],
   "source": [
    "import random\n",
    "\n",
    "max_width = 50\n",
    "max_dist = 30\n",
    "max_height = 300\n",
    "\n",
    "def generate_sample(size):\n",
    "    sample = []\n",
    "    last_l = 0\n",
    "    for _ in range(size):\n",
    "        l = random.randint(last_l, last_l + max_dist)\n",
    "        r = random.randint(l+1, l + max_width)\n",
    "        h = random.randint(1, max_height)\n",
    "        sample.append((l, r, h))\n",
    "        last_l = l\n",
    "    return sample\n",
    "\n",
    "def get_dataset(seed, sizes):\n",
    "    random.seed(seed)  \n",
    "    return { size: [generate_sample(size) for _ in range(5)]\n",
    "        for size in sizes }"
   ]
  },
  {
   "cell_type": "markdown",
   "metadata": {},
   "source": [
    "# Implantations et expérimentations"
   ]
  },
  {
   "cell_type": "markdown",
   "metadata": {},
   "source": [
    "Ces fonctions auxiliaires vous sont fournies pour vérifier l'exactitude des vos algorithmes, mesurer leurs performance et afficher vos résultats.\n",
    "\n",
    "Il est recommandé de prendre le temps de lire et comprendre le code.\n",
    "\n",
    "Exécutez la cellule ci-dessous pour pouvoir utiliser les fonctions auxiliaires."
   ]
  },
  {
   "cell_type": "code",
   "execution_count": 182,
   "metadata": {},
   "outputs": [],
   "source": [
    "import time\n",
    "from scipy.stats import linregress\n",
    "\n",
    "def verification_plot(buildings, skyline):\n",
    "    # Create a figure and a set of subplots with equal width\n",
    "    fig, ax = plt.subplots(figsize=(10,5))\n",
    "\n",
    "    # Create the first subplot to show the problem data as colored filled rectangles\n",
    "    for building in buildings:\n",
    "        left, right, height = building\n",
    "        ax.fill([left, right, right, left], [0, 0, height, height])\n",
    "\n",
    "    # Create the second subplot to plot the skyline as a staircase function\n",
    "    x = [x for x, _ in skyline]\n",
    "    y = [y for _, y in skyline]\n",
    "    ax.step(x, y, where='post', color='black')\n",
    "\n",
    "    # Add the solution points as red dots\n",
    "    ax.plot(x, y, 'ro')\n",
    "\n",
    "    plt.show()\n",
    "\n",
    "\n",
    "def measure(procedure, sample):\n",
    "    \"\"\" Mesure le temps d'execution d'une procédure sur un unique exemplaire \"\"\"\n",
    "    start = time.time()\n",
    "    solution = procedure(sample)\n",
    "    end = time.time()\n",
    "    sorting_time = end - start\n",
    "    return solution, sorting_time\n",
    "\n",
    "\n",
    "def measure_mean_time(procedure, samples):\n",
    "    total_time = 0\n",
    "    for i in range(len(samples)):\n",
    "        sample = samples[i]\n",
    "        solution, compute_time = measure(procedure, sample)\n",
    "        total_time += compute_time\n",
    "       # print(f\"Computing {procedure.__name__} on sample {i+1} of size {len(sample)}...          \", end='\\r')\n",
    "    return total_time / len(samples)\n",
    "\n",
    "\n",
    "def measure_procedure(procedure, dataset):\n",
    "    \"\"\" Mesure les temps moyens d'execution d'une procédure sur chaque point d'un dataset \"\"\"\n",
    "    return {size: measure_mean_time(procedure, samples) for size, samples in dataset.items()}\n",
    "\n",
    "def display_measures_table(measures):\n",
    "    print(\"{: <12} {: <12}\".format(\"Taille\", \"Temps moyen (s)\"))\n",
    "    for size, measure in measures.items():\n",
    "        print(\"{: <12} {: <12}\".format(size, measure))\n",
    "\n",
    "\n",
    "def display_test_puissance(vals, title=\"Test de puissance\"):\n",
    "    x = list(vals.keys())\n",
    "    y = list(vals.values())\n",
    "\n",
    "    # Perform linear regression\n",
    "    m, b, rvalue, _, _ = linregress(x, y)\n",
    "\n",
    "    r = list(map(lambda x : m*x + b, x))\n",
    "\n",
    "    # Create the line equation\n",
    "    line_eq = f\"y = {m:.2f}x + {b:.2f}\"\n",
    "\n",
    "    # Plot the points\n",
    "    plt.scatter(x, y, label='Mesures')\n",
    "\n",
    "    # Plot the regression line\n",
    "    plt.plot(x, r, color=\"red\", label=f'Regression linéaire R²={round(rvalue**2,4)}')\n",
    "\n",
    "    # Add labels and title\n",
    "    plt.xlabel('log Taille')\n",
    "    plt.ylabel('log Temps')\n",
    "    plt.title(title)\n",
    "\n",
    "    # Add legend\n",
    "    plt.legend(bbox_to_anchor=(0.60, 0), loc='lower left')\n",
    "\n",
    "    # Display the line equation\n",
    "    plt.text(min(x), max(y), line_eq)\n",
    "\n",
    "    # Show the plot\n",
    "    plt.show()\n",
    "\n",
    "def display_test_rapport(vals, title=\"Test du rapport\"):\n",
    "    x = list(vals.keys())\n",
    "    y = list(vals.values())\n",
    "\n",
    "    plt.plot(x, y, label='Mesures')\n",
    "    plt.scatter(x, y, label='Mesures')\n",
    "\n",
    "    # Add labels and title\n",
    "    plt.xlabel('Taille')\n",
    "    plt.ylabel('Temps / f(taille)')\n",
    "    plt.title(title)\n",
    "    plt.show()\n",
    "\n",
    "\n",
    "def display_test_constantes(vals, title=\"Test des constantes\"):\n",
    "    x = list(vals.keys())\n",
    "    y = list(vals.values())\n",
    "\n",
    "    # Perform linear regression\n",
    "    m, b, rvalue, _, _ = linregress(x, y)\n",
    "\n",
    "    r = list(map(lambda x : m*x + b, x))\n",
    "\n",
    "    # Create the line equation\n",
    "    line_eq = f\"y = {m:.2E}x + {b:.2E}\"\n",
    "\n",
    "    # Plot the points\n",
    "    plt.scatter(x, y, label='Mesures')\n",
    "\n",
    "    # Plot the regression line\n",
    "    plt.plot(x, r, color=\"red\", label=f'Regression linéaire R²={round(rvalue**2,4)}')\n",
    "\n",
    "    # Add labels and title\n",
    "    plt.xlabel('f(Taille)')\n",
    "    plt.ylabel('Temps')\n",
    "    plt.title(title)\n",
    "\n",
    "    # Add legend\n",
    "    plt.legend(bbox_to_anchor=(0.60, 0), loc='lower left')\n",
    "\n",
    "    # Display the line equation\n",
    "    plt.text(min(x), max(y), line_eq)\n",
    "\n",
    "    # Show the plot\n",
    "    plt.show()\n",
    "    \n",
    "\n",
    "def display_mesures_seuil(vals):\n",
    "    x = list(vals.keys())\n",
    "    y = list(vals.values())\n",
    "    plt.plot(x, y, label='Mesures')\n",
    "    plt.scatter(x, y, label='Mesures')\n",
    "\n",
    "    # Add labels and title\n",
    "    plt.xlabel('Seuil')\n",
    "    plt.ylabel('Temps')\n",
    "    plt.title('Selection du seuil')\n",
    "    plt.show()"
   ]
  },
  {
   "cell_type": "markdown",
   "metadata": {},
   "source": [
    "## Partie 1 : Algorithme naïf (brute force) (5 pts)"
   ]
  },
  {
   "cell_type": "markdown",
   "metadata": {},
   "source": [
    "### Implantation"
   ]
  },
  {
   "cell_type": "markdown",
   "metadata": {},
   "source": [
    "<u>**Question 1.a):**</u> Implantez un algorithme naïf pour le problème de la ligne d'horizon.\n",
    "\n",
    "Utilisez la fonction `verification_plot` sur l'exemplaire de présentation du problème `example_buildings` pour vérifier l'exactitude de votre algorithme et laissez la figure dans votre rapport."
   ]
  },
  {
   "cell_type": "code",
   "execution_count": 183,
   "metadata": {},
   "outputs": [
    {
     "data": {
      "image/png": "[encoded data removed]",
      "text/plain": [
       "<Figure size 1000x500 with 1 Axes>"
      ]
     },
     "metadata": {},
     "output_type": "display_data"
    }
   ],
   "source": [
    "# Problem data\n",
    "example_buildings = [(2, 9, 10), (3, 7, 15), (5, 12, 12), (15, 20, 10), (19, 24, 8)]\n",
    "\n",
    "# Solution data\n",
    "example_skyline = [(2, 10), (3, 15), (7, 12), (12, 0), (15, 10), (20, 8), (24, 0)]\n",
    "#implement the skyline algorithm the bruteforce way\n",
    "def skyline_bruteforce(buildings):\n",
    "    points = []\n",
    "    skyline = []\n",
    "    last_height = 0\n",
    "    for left, right, _ in buildings:\n",
    "        points.append(left)\n",
    "        points.append(right)\n",
    "    points.sort()\n",
    "    for point in points:\n",
    "        height = 0\n",
    "        for l, r, h in buildings:\n",
    "            if l <= point < r:\n",
    "                height = max(height, h)\n",
    "        if height != last_height:\n",
    "            skyline.append((point, height))\n",
    "            last_height = height\n",
    "    return skyline\n",
    "\n",
    "verification_plot(example_buildings, skyline_bruteforce(example_buildings))"
   ]
  },
  {
   "cell_type": "markdown",
   "metadata": {},
   "source": [
    "<u>**Question 1.b):**</u> Quelle est la complexité asymptotique théorique de cet algorithme?"
   ]
  },
  {
   "cell_type": "markdown",
   "metadata": {},
   "source": [
    "### Mesures"
   ]
  },
  {
   "cell_type": "code",
   "execution_count": 184,
   "metadata": {},
   "outputs": [
    {
     "data": {
      "text/plain": [
       "{5: [[(4, 52, 196),\n",
       "   (30, 77, 156),\n",
       "   (45, 92, 5),\n",
       "   (65, 114, 186),\n",
       "   (76, 113, 288)],\n",
       "  [(19, 36, 7), (26, 36, 73), (49, 91, 61), (72, 83, 126), (98, 123, 17)],\n",
       "  [(1, 8, 195), (15, 44, 241), (36, 71, 216), (59, 71, 203), (76, 95, 246)],\n",
       "  [(16, 18, 286), (33, 46, 143), (54, 87, 18), (57, 98, 70), (65, 105, 158)],\n",
       "  [(0, 30, 154), (29, 47, 266), (44, 79, 293), (69, 115, 99), (84, 107, 21)]],\n",
       " 6: [[(7, 14, 174),\n",
       "   (22, 37, 276),\n",
       "   (32, 74, 37),\n",
       "   (43, 48, 250),\n",
       "   (49, 57, 209),\n",
       "   (53, 86, 171)],\n",
       "  [(21, 31, 106),\n",
       "   (46, 77, 33),\n",
       "   (52, 55, 136),\n",
       "   (79, 115, 170),\n",
       "   (95, 102, 100),\n",
       "   (117, 132, 228)],\n",
       "  [(25, 65, 294),\n",
       "   (43, 65, 56),\n",
       "   (69, 103, 139),\n",
       "   (76, 104, 18),\n",
       "   (78, 84, 83),\n",
       "   (95, 106, 275)],\n",
       "  [(0, 49, 275),\n",
       "   (3, 36, 9),\n",
       "   (22, 39, 120),\n",
       "   (50, 93, 244),\n",
       "   (70, 73, 61),\n",
       "   (81, 121, 225)],\n",
       "  [(6, 46, 15),\n",
       "   (19, 33, 168),\n",
       "   (44, 67, 262),\n",
       "   (55, 71, 25),\n",
       "   (81, 119, 12),\n",
       "   (107, 132, 5)]],\n",
       " 7: [[(4, 27, 298),\n",
       "   (27, 63, 212),\n",
       "   (46, 49, 110),\n",
       "   (46, 69, 145),\n",
       "   (57, 66, 50),\n",
       "   (60, 75, 281),\n",
       "   (78, 85, 46)],\n",
       "  [(21, 22, 66),\n",
       "   (45, 68, 46),\n",
       "   (57, 103, 197),\n",
       "   (75, 111, 241),\n",
       "   (78, 110, 114),\n",
       "   (93, 125, 131),\n",
       "   (97, 141, 184)],\n",
       "  [(11, 14, 117),\n",
       "   (12, 22, 255),\n",
       "   (41, 62, 178),\n",
       "   (48, 50, 271),\n",
       "   (48, 89, 225),\n",
       "   (48, 94, 43),\n",
       "   (65, 77, 297)],\n",
       "  [(21, 22, 47),\n",
       "   (40, 88, 255),\n",
       "   (58, 78, 284),\n",
       "   (67, 117, 172),\n",
       "   (79, 116, 224),\n",
       "   (96, 113, 293),\n",
       "   (126, 127, 10)],\n",
       "  [(3, 26, 226),\n",
       "   (10, 53, 67),\n",
       "   (17, 50, 31),\n",
       "   (34, 66, 234),\n",
       "   (48, 54, 236),\n",
       "   (70, 98, 102),\n",
       "   (81, 84, 26)]],\n",
       " 8: [[(26, 49, 144),\n",
       "   (46, 82, 16),\n",
       "   (62, 89, 22),\n",
       "   (85, 103, 96),\n",
       "   (92, 138, 195),\n",
       "   (102, 132, 178),\n",
       "   (132, 137, 216),\n",
       "   (144, 158, 290)],\n",
       "  [(30, 63, 29),\n",
       "   (47, 75, 165),\n",
       "   (69, 117, 193),\n",
       "   (97, 100, 290),\n",
       "   (117, 159, 276),\n",
       "   (143, 167, 91),\n",
       "   (143, 175, 77),\n",
       "   (144, 162, 68)],\n",
       "  [(12, 60, 39),\n",
       "   (12, 13, 265),\n",
       "   (21, 40, 222),\n",
       "   (34, 83, 78),\n",
       "   (51, 88, 268),\n",
       "   (63, 104, 218),\n",
       "   (72, 115, 75),\n",
       "   (93, 141, 294)],\n",
       "  [(18, 43, 205),\n",
       "   (38, 61, 95),\n",
       "   (61, 101, 92),\n",
       "   (75, 122, 266),\n",
       "   (102, 128, 228),\n",
       "   (122, 149, 160),\n",
       "   (152, 186, 91),\n",
       "   (169, 211, 47)],\n",
       "  [(16, 42, 178),\n",
       "   (41, 76, 145),\n",
       "   (61, 95, 91),\n",
       "   (74, 121, 14),\n",
       "   (100, 134, 87),\n",
       "   (114, 117, 137),\n",
       "   (141, 185, 150),\n",
       "   (151, 192, 238)]],\n",
       " 9: [[(27, 38, 44),\n",
       "   (39, 41, 276),\n",
       "   (46, 87, 93),\n",
       "   (63, 108, 299),\n",
       "   (90, 135, 111),\n",
       "   (105, 119, 57),\n",
       "   (119, 152, 64),\n",
       "   (144, 184, 197),\n",
       "   (166, 172, 109)],\n",
       "  [(19, 20, 228),\n",
       "   (46, 69, 102),\n",
       "   (51, 58, 241),\n",
       "   (67, 98, 103),\n",
       "   (78, 100, 274),\n",
       "   (85, 125, 112),\n",
       "   (88, 105, 258),\n",
       "   (118, 125, 64),\n",
       "   (123, 144, 209)],\n",
       "  [(1, 36, 12),\n",
       "   (25, 54, 87),\n",
       "   (49, 58, 252),\n",
       "   (50, 75, 196),\n",
       "   (57, 66, 289),\n",
       "   (65, 102, 188),\n",
       "   (75, 113, 126),\n",
       "   (93, 114, 28),\n",
       "   (98, 124, 28)],\n",
       "  [(17, 35, 190),\n",
       "   (20, 47, 280),\n",
       "   (34, 71, 52),\n",
       "   (45, 79, 55),\n",
       "   (61, 95, 76),\n",
       "   (64, 97, 72),\n",
       "   (77, 121, 76),\n",
       "   (88, 90, 54),\n",
       "   (110, 123, 291)],\n",
       "  [(25, 48, 22),\n",
       "   (40, 47, 90),\n",
       "   (63, 76, 131),\n",
       "   (85, 132, 95),\n",
       "   (100, 128, 64),\n",
       "   (127, 159, 189),\n",
       "   (128, 146, 97),\n",
       "   (158, 174, 74),\n",
       "   (183, 220, 75)]],\n",
       " 10: [[(4, 18, 220),\n",
       "   (22, 42, 68),\n",
       "   (49, 92, 173),\n",
       "   (58, 75, 2),\n",
       "   (81, 95, 281),\n",
       "   (109, 154, 263),\n",
       "   (129, 150, 126),\n",
       "   (158, 180, 19),\n",
       "   (165, 209, 151),\n",
       "   (170, 200, 33)],\n",
       "  [(27, 69, 241),\n",
       "   (35, 56, 91),\n",
       "   (62, 79, 183),\n",
       "   (82, 115, 138),\n",
       "   (97, 104, 176),\n",
       "   (122, 149, 72),\n",
       "   (135, 166, 271),\n",
       "   (143, 175, 263),\n",
       "   (173, 181, 293),\n",
       "   (200, 224, 234)],\n",
       "  [(16, 63, 133),\n",
       "   (43, 48, 280),\n",
       "   (72, 85, 255),\n",
       "   (85, 126, 257),\n",
       "   (103, 129, 298),\n",
       "   (105, 130, 155),\n",
       "   (133, 178, 170),\n",
       "   (151, 188, 234),\n",
       "   (179, 203, 290),\n",
       "   (186, 199, 183)],\n",
       "  [(7, 10, 101),\n",
       "   (14, 25, 255),\n",
       "   (30, 50, 18),\n",
       "   (51, 71, 29),\n",
       "   (66, 97, 152),\n",
       "   (94, 143, 26),\n",
       "   (97, 98, 25),\n",
       "   (99, 114, 216),\n",
       "   (109, 136, 58),\n",
       "   (137, 175, 171)],\n",
       "  [(16, 46, 267),\n",
       "   (42, 72, 286),\n",
       "   (67, 112, 18),\n",
       "   (91, 110, 144),\n",
       "   (116, 164, 110),\n",
       "   (124, 140, 254),\n",
       "   (143, 146, 72),\n",
       "   (153, 169, 80),\n",
       "   (166, 168, 139),\n",
       "   (185, 223, 153)]],\n",
       " 11: [[(28, 35, 165),\n",
       "   (54, 100, 159),\n",
       "   (76, 101, 187),\n",
       "   (79, 102, 89),\n",
       "   (102, 135, 236),\n",
       "   (110, 117, 58),\n",
       "   (125, 131, 255),\n",
       "   (135, 139, 64),\n",
       "   (162, 212, 80),\n",
       "   (177, 195, 56),\n",
       "   (206, 235, 26)],\n",
       "  [(13, 35, 231),\n",
       "   (27, 44, 27),\n",
       "   (53, 57, 282),\n",
       "   (70, 78, 168),\n",
       "   (98, 134, 44),\n",
       "   (100, 104, 85),\n",
       "   (109, 112, 252),\n",
       "   (117, 162, 120),\n",
       "   (135, 157, 103),\n",
       "   (151, 160, 144),\n",
       "   (176, 204, 164)],\n",
       "  [(3, 48, 51),\n",
       "   (33, 36, 132),\n",
       "   (46, 73, 182),\n",
       "   (74, 118, 191),\n",
       "   (101, 117, 185),\n",
       "   (126, 146, 165),\n",
       "   (131, 154, 63),\n",
       "   (134, 152, 140),\n",
       "   (143, 169, 217),\n",
       "   (170, 183, 162),\n",
       "   (183, 206, 119)],\n",
       "  [(13, 31, 78),\n",
       "   (20, 23, 248),\n",
       "   (39, 71, 170),\n",
       "   (63, 87, 276),\n",
       "   (87, 123, 72),\n",
       "   (113, 120, 9),\n",
       "   (116, 131, 164),\n",
       "   (140, 168, 171),\n",
       "   (155, 191, 273),\n",
       "   (164, 177, 29),\n",
       "   (177, 201, 25)],\n",
       "  [(16, 51, 259),\n",
       "   (21, 53, 91),\n",
       "   (29, 57, 197),\n",
       "   (35, 41, 47),\n",
       "   (48, 84, 173),\n",
       "   (76, 109, 270),\n",
       "   (88, 90, 97),\n",
       "   (91, 139, 173),\n",
       "   (104, 149, 159),\n",
       "   (106, 152, 223),\n",
       "   (107, 134, 161)]],\n",
       " 12: [[(27, 62, 176),\n",
       "   (37, 66, 102),\n",
       "   (60, 89, 284),\n",
       "   (85, 95, 167),\n",
       "   (110, 134, 7),\n",
       "   (135, 164, 37),\n",
       "   (144, 146, 250),\n",
       "   (173, 211, 126),\n",
       "   (196, 207, 98),\n",
       "   (197, 240, 216),\n",
       "   (207, 256, 70),\n",
       "   (229, 241, 283)],\n",
       "  [(3, 5, 112),\n",
       "   (23, 57, 33),\n",
       "   (25, 44, 62),\n",
       "   (35, 72, 271),\n",
       "   (63, 85, 248),\n",
       "   (65, 66, 251),\n",
       "   (66, 75, 276),\n",
       "   (78, 125, 115),\n",
       "   (92, 132, 42),\n",
       "   (114, 122, 231),\n",
       "   (123, 139, 25),\n",
       "   (129, 132, 81)],\n",
       "  [(15, 46, 77),\n",
       "   (26, 27, 243),\n",
       "   (44, 91, 115),\n",
       "   (72, 84, 220),\n",
       "   (89, 137, 106),\n",
       "   (92, 97, 13),\n",
       "   (114, 161, 207),\n",
       "   (132, 134, 274),\n",
       "   (137, 183, 94),\n",
       "   (140, 174, 46),\n",
       "   (154, 165, 259),\n",
       "   (169, 198, 261)],\n",
       "  [(12, 51, 153),\n",
       "   (25, 34, 262),\n",
       "   (42, 65, 45),\n",
       "   (49, 64, 62),\n",
       "   (64, 76, 16),\n",
       "   (82, 106, 47),\n",
       "   (89, 139, 71),\n",
       "   (96, 145, 250),\n",
       "   (100, 142, 93),\n",
       "   (114, 152, 165),\n",
       "   (126, 128, 129),\n",
       "   (145, 163, 214)],\n",
       "  [(5, 27, 154),\n",
       "   (17, 24, 220),\n",
       "   (28, 67, 193),\n",
       "   (34, 77, 150),\n",
       "   (61, 83, 170),\n",
       "   (91, 132, 96),\n",
       "   (111, 153, 250),\n",
       "   (140, 154, 165),\n",
       "   (146, 182, 204),\n",
       "   (166, 186, 146),\n",
       "   (177, 193, 256),\n",
       "   (184, 202, 97)]],\n",
       " 13: [[(12, 39, 163),\n",
       "   (14, 33, 71),\n",
       "   (14, 42, 218),\n",
       "   (36, 80, 205),\n",
       "   (49, 75, 191),\n",
       "   (70, 80, 132),\n",
       "   (90, 115, 226),\n",
       "   (101, 117, 245),\n",
       "   (123, 156, 56),\n",
       "   (153, 174, 60),\n",
       "   (155, 181, 44),\n",
       "   (164, 193, 294),\n",
       "   (186, 215, 287)],\n",
       "  [(23, 69, 7),\n",
       "   (49, 95, 55),\n",
       "   (73, 114, 192),\n",
       "   (98, 145, 145),\n",
       "   (122, 144, 205),\n",
       "   (136, 161, 244),\n",
       "   (138, 149, 8),\n",
       "   (151, 184, 220),\n",
       "   (156, 175, 171),\n",
       "   (165, 211, 263),\n",
       "   (192, 217, 19),\n",
       "   (219, 253, 277),\n",
       "   (229, 262, 33)],\n",
       "  [(23, 54, 100),\n",
       "   (46, 68, 20),\n",
       "   (70, 102, 31),\n",
       "   (93, 108, 256),\n",
       "   (116, 146, 144),\n",
       "   (127, 144, 197),\n",
       "   (136, 157, 230),\n",
       "   (146, 186, 65),\n",
       "   (167, 176, 213),\n",
       "   (186, 232, 118),\n",
       "   (204, 228, 208),\n",
       "   (213, 225, 89),\n",
       "   (217, 249, 234)],\n",
       "  [(6, 52, 273),\n",
       "   (14, 31, 215),\n",
       "   (23, 53, 194),\n",
       "   (53, 94, 172),\n",
       "   (75, 109, 218),\n",
       "   (96, 108, 299),\n",
       "   (108, 157, 285),\n",
       "   (130, 158, 102),\n",
       "   (132, 144, 133),\n",
       "   (156, 160, 191),\n",
       "   (186, 211, 221),\n",
       "   (189, 213, 200),\n",
       "   (210, 234, 140)],\n",
       "  [(9, 40, 157),\n",
       "   (10, 21, 253),\n",
       "   (11, 19, 100),\n",
       "   (12, 28, 224),\n",
       "   (14, 16, 58),\n",
       "   (24, 64, 122),\n",
       "   (34, 71, 189),\n",
       "   (52, 96, 59),\n",
       "   (73, 90, 13),\n",
       "   (95, 97, 122),\n",
       "   (101, 108, 126),\n",
       "   (131, 150, 220),\n",
       "   (148, 188, 239)]],\n",
       " 14: [[(5, 36, 126),\n",
       "   (14, 51, 134),\n",
       "   (26, 52, 125),\n",
       "   (32, 80, 129),\n",
       "   (57, 106, 86),\n",
       "   (70, 91, 145),\n",
       "   (97, 105, 62),\n",
       "   (116, 152, 23),\n",
       "   (136, 156, 221),\n",
       "   (163, 179, 228),\n",
       "   (178, 226, 43),\n",
       "   (201, 215, 39),\n",
       "   (215, 263, 227),\n",
       "   (236, 257, 34)],\n",
       "  [(14, 27, 296),\n",
       "   (20, 21, 79),\n",
       "   (42, 80, 256),\n",
       "   (59, 92, 202),\n",
       "   (65, 105, 93),\n",
       "   (72, 86, 168),\n",
       "   (82, 117, 207),\n",
       "   (82, 93, 260),\n",
       "   (87, 127, 213),\n",
       "   (110, 126, 44),\n",
       "   (128, 176, 264),\n",
       "   (129, 172, 263),\n",
       "   (135, 156, 112),\n",
       "   (164, 185, 197)],\n",
       "  [(30, 46, 91),\n",
       "   (39, 80, 225),\n",
       "   (42, 84, 19),\n",
       "   (52, 66, 70),\n",
       "   (69, 101, 144),\n",
       "   (82, 126, 149),\n",
       "   (100, 104, 182),\n",
       "   (111, 149, 75),\n",
       "   (111, 133, 283),\n",
       "   (120, 134, 61),\n",
       "   (133, 155, 200),\n",
       "   (152, 172, 160),\n",
       "   (169, 211, 43),\n",
       "   (188, 193, 245)],\n",
       "  [(9, 37, 9),\n",
       "   (32, 52, 116),\n",
       "   (57, 77, 146),\n",
       "   (69, 95, 298),\n",
       "   (71, 103, 211),\n",
       "   (72, 109, 135),\n",
       "   (85, 102, 271),\n",
       "   (107, 117, 125),\n",
       "   (134, 154, 119),\n",
       "   (139, 174, 247),\n",
       "   (167, 170, 286),\n",
       "   (185, 193, 31),\n",
       "   (197, 226, 144),\n",
       "   (215, 248, 132)],\n",
       "  [(12, 22, 93),\n",
       "   (38, 81, 115),\n",
       "   (40, 61, 299),\n",
       "   (42, 72, 280),\n",
       "   (48, 96, 253),\n",
       "   (51, 78, 117),\n",
       "   (77, 81, 276),\n",
       "   (103, 115, 227),\n",
       "   (105, 123, 255),\n",
       "   (105, 129, 21),\n",
       "   (110, 143, 239),\n",
       "   (138, 152, 184),\n",
       "   (168, 200, 21),\n",
       "   (173, 185, 96)]],\n",
       " 15: [[(26, 72, 175),\n",
       "   (39, 52, 61),\n",
       "   (66, 112, 266),\n",
       "   (89, 115, 168),\n",
       "   (115, 164, 195),\n",
       "   (124, 146, 55),\n",
       "   (131, 181, 280),\n",
       "   (134, 143, 11),\n",
       "   (147, 155, 48),\n",
       "   (161, 191, 235),\n",
       "   (188, 232, 103),\n",
       "   (212, 241, 266),\n",
       "   (238, 255, 42),\n",
       "   (248, 281, 273),\n",
       "   (257, 267, 130)],\n",
       "  [(23, 69, 253),\n",
       "   (35, 58, 154),\n",
       "   (56, 103, 261),\n",
       "   (69, 85, 168),\n",
       "   (87, 107, 163),\n",
       "   (98, 143, 267),\n",
       "   (98, 132, 256),\n",
       "   (115, 125, 86),\n",
       "   (119, 135, 179),\n",
       "   (144, 194, 286),\n",
       "   (149, 163, 239),\n",
       "   (172, 221, 288),\n",
       "   (190, 238, 137),\n",
       "   (190, 225, 18),\n",
       "   (195, 218, 155)],\n",
       "  [(0, 5, 43),\n",
       "   (23, 54, 237),\n",
       "   (32, 41, 154),\n",
       "   (49, 60, 31),\n",
       "   (55, 73, 103),\n",
       "   (80, 94, 1),\n",
       "   (98, 142, 208),\n",
       "   (105, 106, 204),\n",
       "   (107, 123, 26),\n",
       "   (121, 150, 111),\n",
       "   (140, 183, 295),\n",
       "   (167, 198, 126),\n",
       "   (179, 221, 171),\n",
       "   (186, 206, 227),\n",
       "   (192, 220, 249)],\n",
       "  [(15, 46, 26),\n",
       "   (36, 69, 288),\n",
       "   (61, 78, 116),\n",
       "   (77, 108, 48),\n",
       "   (89, 108, 194),\n",
       "   (115, 132, 214),\n",
       "   (115, 129, 115),\n",
       "   (131, 170, 218),\n",
       "   (159, 172, 279),\n",
       "   (187, 205, 11),\n",
       "   (188, 192, 114),\n",
       "   (195, 212, 221),\n",
       "   (217, 218, 231),\n",
       "   (217, 221, 91),\n",
       "   (229, 244, 63)],\n",
       "  [(13, 47, 161),\n",
       "   (42, 65, 105),\n",
       "   (58, 101, 80),\n",
       "   (63, 103, 39),\n",
       "   (65, 93, 29),\n",
       "   (78, 109, 131),\n",
       "   (86, 136, 281),\n",
       "   (103, 143, 239),\n",
       "   (110, 144, 124),\n",
       "   (126, 158, 166),\n",
       "   (128, 155, 60),\n",
       "   (143, 187, 203),\n",
       "   (171, 185, 175),\n",
       "   (176, 200, 179),\n",
       "   (177, 191, 213)]],\n",
       " 16: [[(26, 29, 48),\n",
       "   (38, 53, 55),\n",
       "   (65, 92, 1),\n",
       "   (77, 109, 197),\n",
       "   (96, 111, 15),\n",
       "   (124, 169, 298),\n",
       "   (150, 191, 173),\n",
       "   (172, 207, 114),\n",
       "   (199, 210, 203),\n",
       "   (212, 219, 254),\n",
       "   (235, 278, 66),\n",
       "   (257, 300, 54),\n",
       "   (259, 295, 182),\n",
       "   (270, 276, 144),\n",
       "   (277, 298, 176),\n",
       "   (290, 335, 270)],\n",
       "  [(8, 37, 132),\n",
       "   (38, 74, 234),\n",
       "   (56, 79, 175),\n",
       "   (80, 121, 126),\n",
       "   (97, 112, 25),\n",
       "   (118, 154, 213),\n",
       "   (128, 141, 160),\n",
       "   (136, 144, 25),\n",
       "   (160, 170, 252),\n",
       "   (172, 212, 37),\n",
       "   (188, 204, 222),\n",
       "   (214, 245, 147),\n",
       "   (224, 238, 6),\n",
       "   (234, 269, 195),\n",
       "   (241, 251, 276),\n",
       "   (244, 263, 284)],\n",
       "  [(11, 33, 298),\n",
       "   (11, 54, 163),\n",
       "   (22, 30, 225),\n",
       "   (46, 74, 126),\n",
       "   (59, 61, 199),\n",
       "   (87, 134, 298),\n",
       "   (105, 134, 276),\n",
       "   (127, 140, 276),\n",
       "   (150, 189, 20),\n",
       "   (179, 204, 136),\n",
       "   (208, 213, 59),\n",
       "   (217, 258, 244),\n",
       "   (235, 260, 161),\n",
       "   (263, 273, 31),\n",
       "   (272, 306, 53),\n",
       "   (279, 303, 37)],\n",
       "  [(12, 52, 63),\n",
       "   (16, 64, 156),\n",
       "   (17, 62, 30),\n",
       "   (41, 76, 232),\n",
       "   (54, 77, 202),\n",
       "   (65, 87, 84),\n",
       "   (79, 123, 67),\n",
       "   (105, 144, 41),\n",
       "   (130, 164, 231),\n",
       "   (160, 207, 39),\n",
       "   (182, 198, 81),\n",
       "   (207, 213, 100),\n",
       "   (225, 239, 163),\n",
       "   (246, 253, 72),\n",
       "   (247, 282, 71),\n",
       "   (274, 280, 264)],\n",
       "  [(16, 24, 293),\n",
       "   (34, 45, 59),\n",
       "   (53, 55, 265),\n",
       "   (82, 99, 46),\n",
       "   (100, 137, 123),\n",
       "   (129, 151, 246),\n",
       "   (155, 204, 71),\n",
       "   (181, 186, 253),\n",
       "   (192, 213, 74),\n",
       "   (196, 202, 18),\n",
       "   (209, 215, 143),\n",
       "   (213, 217, 275),\n",
       "   (243, 284, 25),\n",
       "   (270, 319, 187),\n",
       "   (272, 304, 298),\n",
       "   (301, 326, 177)]]}"
      ]
     },
     "execution_count": 184,
     "metadata": {},
     "output_type": "execute_result"
    }
   ],
   "source": [
    "# TODO: Utilisez un de vos matricules comme graine et une liste de tailles judicieusement choisies\n",
    "dataset = get_dataset(2152269, [5,6,7,8,9,10,11,12,13,14,15,16])\n",
    "dataset"
   ]
  },
  {
   "cell_type": "code",
   "execution_count": 185,
   "metadata": {},
   "outputs": [],
   "source": [
    "measures_bruteforce = measure_procedure(skyline_bruteforce, dataset)"
   ]
  },
  {
   "cell_type": "markdown",
   "metadata": {},
   "source": [
    "Représentez vos mesures sous forme d'un tableau avec la fonction `display_measures_table`."
   ]
  },
  {
   "cell_type": "code",
   "execution_count": 186,
   "metadata": {},
   "outputs": [
    {
     "name": "stdout",
     "output_type": "stream",
     "text": [
      "Taille       Temps moyen (s)\n",
      "5            0.0         \n",
      "6            0.0         \n",
      "7            0.0         \n",
      "8            0.0         \n",
      "9            0.00010275840759277344\n",
      "10           0.0         \n",
      "11           0.0         \n",
      "12           0.0         \n",
      "13           0.0         \n",
      "14           0.0         \n",
      "15           0.00020265579223632812\n",
      "16           0.0         \n"
     ]
    }
   ],
   "source": [
    "display_measures_table(measures_bruteforce)"
   ]
  },
  {
   "cell_type": "markdown",
   "metadata": {},
   "source": [
    "### Analyse hybride\n",
    "\n",
    "#### Test de puissance\n",
    "\n",
    "<u>**Question 2.a):**</u> Effectuez le test de puissance de votre algorithme.\n",
    "\n",
    "Pour cela complétez d'abord le code de la fonction `values_test_puissance` pour obtenir les valeurs à placer sur le graphe. Utilisez ensuite la fonction `display_test_puissance` pour afficher le graphe."
   ]
  },
  {
   "cell_type": "code",
   "execution_count": 187,
   "metadata": {},
   "outputs": [
    {
     "ename": "ValueError",
     "evalue": "math domain error",
     "output_type": "error",
     "traceback": [
      "\u001b[1;31m---------------------------------------------------------------------------\u001b[0m",
      "\u001b[1;31mValueError\u001b[0m                                Traceback (most recent call last)",
      "Cell \u001b[1;32mIn[187], line 11\u001b[0m\n\u001b[0;32m      3\u001b[0m \u001b[38;5;28;01mdef\u001b[39;00m \u001b[38;5;21mvalues_test_puissance\u001b[39m(measures):\n\u001b[0;32m      4\u001b[0m     \u001b[38;5;28;01mreturn\u001b[39;00m {\n\u001b[0;32m      5\u001b[0m         \u001b[38;5;66;03m# TODO: calculez les valeurs x:y pour le test de puissance\u001b[39;00m\n\u001b[0;32m      6\u001b[0m         math\u001b[38;5;241m.\u001b[39mlog(size) : math\u001b[38;5;241m.\u001b[39mlog(measure)\n\u001b[0;32m      7\u001b[0m         \u001b[38;5;28;01mfor\u001b[39;00m size, measure \u001b[38;5;129;01min\u001b[39;00m measures\u001b[38;5;241m.\u001b[39mitems() \n\u001b[0;32m      8\u001b[0m \n\u001b[0;32m      9\u001b[0m     }\n\u001b[1;32m---> 11\u001b[0m display_test_puissance(values_test_puissance(measures_bruteforce), \u001b[38;5;124m\"\u001b[39m\u001b[38;5;124mTest de puissance: algorithme naïf\u001b[39m\u001b[38;5;124m\"\u001b[39m)\n\u001b[0;32m     12\u001b[0m measures_bruteforce\n",
      "Cell \u001b[1;32mIn[187], line 4\u001b[0m, in \u001b[0;36mvalues_test_puissance\u001b[1;34m(measures)\u001b[0m\n\u001b[0;32m      3\u001b[0m \u001b[38;5;28;01mdef\u001b[39;00m \u001b[38;5;21mvalues_test_puissance\u001b[39m(measures):\n\u001b[1;32m----> 4\u001b[0m     \u001b[38;5;28;01mreturn\u001b[39;00m {\n\u001b[0;32m      5\u001b[0m         \u001b[38;5;66;03m# TODO: calculez les valeurs x:y pour le test de puissance\u001b[39;00m\n\u001b[0;32m      6\u001b[0m         math\u001b[38;5;241m.\u001b[39mlog(size) : math\u001b[38;5;241m.\u001b[39mlog(measure)\n\u001b[0;32m      7\u001b[0m         \u001b[38;5;28;01mfor\u001b[39;00m size, measure \u001b[38;5;129;01min\u001b[39;00m measures\u001b[38;5;241m.\u001b[39mitems() \n\u001b[0;32m      8\u001b[0m \n\u001b[0;32m      9\u001b[0m     }\n",
      "Cell \u001b[1;32mIn[187], line 6\u001b[0m, in \u001b[0;36m<dictcomp>\u001b[1;34m(.0)\u001b[0m\n\u001b[0;32m      3\u001b[0m \u001b[38;5;28;01mdef\u001b[39;00m \u001b[38;5;21mvalues_test_puissance\u001b[39m(measures):\n\u001b[0;32m      4\u001b[0m     \u001b[38;5;28;01mreturn\u001b[39;00m {\n\u001b[0;32m      5\u001b[0m         \u001b[38;5;66;03m# TODO: calculez les valeurs x:y pour le test de puissance\u001b[39;00m\n\u001b[1;32m----> 6\u001b[0m         math\u001b[38;5;241m.\u001b[39mlog(size) : math\u001b[38;5;241m.\u001b[39mlog(measure)\n\u001b[0;32m      7\u001b[0m         \u001b[38;5;28;01mfor\u001b[39;00m size, measure \u001b[38;5;129;01min\u001b[39;00m measures\u001b[38;5;241m.\u001b[39mitems() \n\u001b[0;32m      8\u001b[0m \n\u001b[0;32m      9\u001b[0m     }\n",
      "\u001b[1;31mValueError\u001b[0m: math domain error"
     ]
    }
   ],
   "source": [
    "import math\n",
    "\n",
    "def values_test_puissance(measures):\n",
    "    return {\n",
    "        # TODO: calculez les valeurs x:y pour le test de puissance\n",
    "        math.log(size) : math.log(measure)\n",
    "        for size, measure in measures.items() \n",
    "\n",
    "    }\n",
    "\n",
    "display_test_puissance(values_test_puissance(measures_bruteforce), \"Test de puissance: algorithme naïf\")\n",
    "measures_bruteforce\n"
   ]
  },
  {
   "cell_type": "markdown",
   "metadata": {},
   "source": [
    "<u>**Question 2.b):**</u> Analysez le graphe obtenu pour le test de puissance."
   ]
  },
  {
   "cell_type": "markdown",
   "metadata": {},
   "source": [
    "Le graphique obtenu est le graphique de log(temps) en fonction du log(taille). On peut voir que la courbe est une droite, ce qui signifie que c'est une consommation en temps qui croit de manière polynomiale avec la taille des exemplaires. La fonction de la droite obtenue est log(temps) = 2*log(taille) - 16.42, ce qui signifie qu'on a un m = 2. Puisqu'on a fait un graphique log(temps) en fonction du log(taille) et que le résultat qu'on obtient est une droite, on peut en conclure que la pente de la droite(m) représente le degré du polynôme qui représente la complexité de l'algorithme. Donc, notre hypothèse est que notre fonction f(x) = x², avec x représentant la taille des exemplaires."
   ]
  },
  {
   "cell_type": "markdown",
   "metadata": {},
   "source": [
    "#### Test du rapport\n",
    "\n",
    "<u>**Question 3.a):**</u> Effectuez le test du rapport avec une ou plusieurs fonctions f pertinentes.\n",
    "\n",
    "Complétez d'abord la fonction `values_test_rapport` permettant d'obtenir les valeurs à reporter sur le graphe. Puis utilisez la fonction `display_test_rapport` pour afficher le graphe."
   ]
  },
  {
   "cell_type": "code",
   "execution_count": 188,
   "metadata": {},
   "outputs": [
    {
     "data": {
      "image/png": "[encoded data removed]",
      "text/plain": [
       "<Figure size 640x480 with 1 Axes>"
      ]
     },
     "metadata": {},
     "output_type": "display_data"
    }
   ],
   "source": [
    "def values_test_rapport(measures, f):\n",
    "    return {\n",
    "        # TODO: calculez les valeurs x:y pour le test du rapport\n",
    "        size : (measure / f(size))\n",
    "        for size, measure in measures.items()\n",
    "    }\n",
    "\n",
    "# TODO: definissez f judicieusement\n",
    "def f(x):\n",
    "    return x**2\n",
    "\n",
    "display_test_rapport(values_test_rapport(measures_bruteforce, f))"
   ]
  },
  {
   "cell_type": "markdown",
   "metadata": {},
   "source": [
    "<u>**Question 3.b):**</u> Analysez le graphe obtenu pour le test du rapport. Précisez le critère de choix de votre ou vos fonctions."
   ]
  },
  {
   "cell_type": "markdown",
   "metadata": {},
   "source": [
    "Le graphique obtenue est le graphique du temps / f(taille) en fonction de la taille. La fonction f(taille) est celle que nous avons déterminé à l'aide du test de puissance. On peut voir avec le graphique que la courbe obtenue converge vers une certaine valeur a ( ̃= 8.1 * 10⁻⁸) qui est plus grande que 0. C'est bien le résultat attendu qui nous confirme que notre hypothèse posé dans la question 2.b) est juste. On peut alors rafiné notre hypothèse en disant que temps = a * f(taille)."
   ]
  },
  {
   "cell_type": "markdown",
   "metadata": {},
   "source": [
    "### Test des constantes\n",
    "\n",
    "<u>**Question 4.a):**</u> Effectuez le test des constantes avec une ou plusieurs fonctions f pertinentes.\n",
    "\n",
    "Complétez d'abord la fonction `values_test_constantes` permettant d'obtenir les valeurs à reporter sur le graphe. Puis utilisez la fonction `display_test_constantes` pour afficher le graphe."
   ]
  },
  {
   "cell_type": "code",
   "execution_count": 189,
   "metadata": {},
   "outputs": [
    {
     "data": {
      "image/png": "[encoded data removed]",
      "text/plain": [
       "<Figure size 640x480 with 1 Axes>"
      ]
     },
     "metadata": {},
     "output_type": "display_data"
    }
   ],
   "source": [
    "def values_test_constantes(measures, f):\n",
    "    return {\n",
    "        # TODO: calculez les valeurs x:y pour le test du rapport\n",
    "        f(size) : measure\n",
    "        for size, measure in measures.items()\n",
    "    }\n",
    "\n",
    "# TODO: définissez f judicieusement\n",
    "def f(x):\n",
    "    return x**2\n",
    "\n",
    "display_test_constantes(values_test_constantes(measures_bruteforce, f))"
   ]
  },
  {
   "cell_type": "markdown",
   "metadata": {},
   "source": [
    "<u>**Question 4.b):**</u> Analysez le graphe obtenu et indiquez les valeurs des constantes mises en évidence par le test."
   ]
  },
  {
   "cell_type": "markdown",
   "metadata": {},
   "source": [
    "Le graphique obtenue est le graphique du temps en fonction de la f(taille). Le graphique donne une droite, ce qui était le résultat attendu. La pente de la droite est supposé donner a et à la question précédente, nous avons trouvé que a est environ égale à 8.1 * 10⁻⁸. La pente du graphique nous donne 8.18 * 10⁻⁸, ce qui est très proche de la valeur de a trouvé au dernier numéro. On peut donc conclure que a est la constante de notre algorithme. Nous avons aussi une valeur d'ordonné à l'origine b qui est égale à -5.45 * 10⁻²."
   ]
  },
  {
   "cell_type": "markdown",
   "metadata": {},
   "source": []
  },
  {
   "cell_type": "markdown",
   "metadata": {},
   "source": [
    "\n",
    "## Partie 2 : Algorithme diviser pour régner (5 pts)\n"
   ]
  },
  {
   "cell_type": "markdown",
   "metadata": {},
   "source": [
    "<u>**Question 1.a):**</u> Implantez un algorithme pour le problème de la ligne d'horizon utlisant le patron de conception \"Diviser pour régner\".\n",
    "\n",
    "Utilisez la fonction `verification_plot` sur l'exemplaire de présentation du problème `example_buildings` pour vérifier l'exactitude de votre algorithme et laissez la figure dans votre rapport."
   ]
  },
  {
   "cell_type": "code",
   "execution_count": 190,
   "metadata": {},
   "outputs": [
    {
     "data": {
      "image/png": "[encoded data removed]",
      "text/plain": [
       "<Figure size 1000x500 with 1 Axes>"
      ]
     },
     "metadata": {},
     "output_type": "display_data"
    }
   ],
   "source": [
    "\n",
    "def skyline_divide_and_conquer(buildings):\n",
    "    output = []\n",
    "    skyline = []\n",
    "    i, j = 0,0\n",
    "\n",
    "    skyline_height_a, skyline_height_b = 0, 0\n",
    "\n",
    "    if len(buildings) == 1:\n",
    "        l, r, h = buildings[0]\n",
    "        return [(l, h), (r, 0)]\n",
    "    \n",
    "    half = len(buildings)//2\n",
    "\n",
    "    skyline_a = skyline_divide_and_conquer(buildings[:half])\n",
    "    skyline_b = skyline_divide_and_conquer(buildings[half:])\n",
    "\n",
    "    while i < len(skyline_a) or j < len(skyline_b):\n",
    "        x_a, h_a = skyline_a[i] if i < len(skyline_a) else (float('inf'), 0)\n",
    "        x_b, h_b = skyline_b[j] if j < len(skyline_b) else (float('inf'), 0)\n",
    "\n",
    "        if x_a < x_b:\n",
    "            skyline_height_a = h_a\n",
    "            x = x_a\n",
    "            i += 1\n",
    "        if x_b <= x_a: \n",
    "            skyline_height_b = h_b\n",
    "            x = x_b\n",
    "            j += 1\n",
    "        skyline.append((x, max(skyline_height_a, skyline_height_b)))\n",
    "    last_height = 0\n",
    "\n",
    "    for x, h in skyline:\n",
    "        if h != last_height:\n",
    "            output.append((x, h))\n",
    "            last_height = h\n",
    "    return output\n",
    "example_buildings = [(2, 9, 10), (3, 7, 15), (5, 12, 12), (15, 20, 10), (19, 24, 8)]\n",
    "example_skyline = [(2, 10), (3, 15), (7, 12), (12, 0), (15, 10), (20, 8), (24, 0)] \n",
    "verification_plot(example_buildings, skyline_divide_and_conquer(example_buildings))"
   ]
  },
  {
   "cell_type": "markdown",
   "metadata": {},
   "source": [
    "<u>**Question 1.b):**</u> Quelle est la complexité asymptotique théorique de cet algorithme?"
   ]
  },
  {
   "cell_type": "markdown",
   "metadata": {},
   "source": [
    "### Mesures (seuil 1)"
   ]
  },
  {
   "cell_type": "code",
   "execution_count": 198,
   "metadata": {},
   "outputs": [],
   "source": [
    "# TODO: Utilisez un de vos matricules comme graine et une liste de tailles judicieusement choisies\n",
    "liste=[20,21,22,23,24,25,25,26,27,28,29,30,31,32,33,34]\n",
    "for i in range(len(liste)):\n",
    "    liste[i]+=100\n",
    "\n",
    "dataset = get_dataset(2144744, liste)\n"
   ]
  },
  {
   "cell_type": "code",
   "execution_count": 199,
   "metadata": {},
   "outputs": [],
   "source": [
    "measures_divide_naive_threshold = measure_procedure(skyline_divide_and_conquer, dataset)\n",
    "measures_bruteforce = measure_procedure(skyline_bruteforce, dataset)\n"
   ]
  },
  {
   "cell_type": "code",
   "execution_count": null,
   "metadata": {},
   "outputs": [],
   "source": [
    "\n",
    "from random import randint\n",
    "#print(\"divide and conquer\")\n",
    "#display_measures_table(measures_divide_naive_threshold)\n",
    "#print(\"bruteforce\")\n",
    "#display_measures_table(measures_bruteforce)\n",
    "moyenne_divide=0\n",
    "moyenne_brute=0\n",
    "nbIterations=0\n",
    "liste_moyenne=[]\n",
    "random_number=randint(2000000,3000000)\n",
    "while nbIterations<100:\n",
    "    dataset = get_dataset(random_number, liste)\n",
    "    measures_divide_naive_threshold = measure_procedure(skyline_divide_and_conquer, dataset)\n",
    "    measures_bruteforce = measure_procedure(skyline_bruteforce, dataset)\n",
    "    moyenne_divide=0\n",
    "    moyenne_brute=0\n",
    "    for index in liste:\n",
    "        moyenne_divide+=measures_divide_naive_threshold[index]\n",
    "        moyenne_brute+=measures_bruteforce[index]\n",
    "    moyenne_divide/=len(liste)\n",
    "    moyenne_brute/=len(liste)\n",
    "    for i in range(len(liste)):\n",
    "        liste[i]-=1\n",
    "    if moyenne_brute<moyenne_divide:\n",
    "            liste_moyenne.append(sum(liste)/len(liste))\n",
    "            random_number=randint(2000000,3000000)\n",
    "            liste=[100,101,102,103,104,105,106,107,108,109,110,111,112,113]\n",
    "            nbIterations+=1\n",
    "\n",
    "\n",
    "moyenne_resultante=sum(liste_moyenne)/len(liste_moyenne)\n",
    "print(\"La moyenne resultante obtenue est:\" + str(moyenne_resultante))\n"
   ]
  },
  {
   "cell_type": "markdown",
   "metadata": {},
   "source": [
    "### Analyse hybride\n",
    "\n",
    "#### Test de puissance\n",
    "\n",
    "Effectuez le test de puissance de votre algorithme.\n",
    "\n",
    "Utilisez la fonction `display_test_puissance` pour afficher le graphe."
   ]
  },
  {
   "cell_type": "code",
   "execution_count": null,
   "metadata": {},
   "outputs": [],
   "source": [
    "display_test_puissance(values_test_puissance(measures_divide_naive_threshold), \"Test de puissance: algorithme diviser pour reigner\")"
   ]
  },
  {
   "cell_type": "markdown",
   "metadata": {},
   "source": [
    "<u>**Question 2):**</u> Analysez le graphe obtenu pour le test de puissance."
   ]
  },
  {
   "cell_type": "markdown",
   "metadata": {},
   "source": [
    "Le graphique obtenu est le graphique de log(temps) en fonction du log(taille). On peut voir que la courbe est une droite, ce qui signifie que c'est une consommation en temps qui croit de manière polynomiale avec la taille des exemplaires. La fonction de la droite obtenue est log(temps) = 1.05*log(taille) - 12.1, ce qui signifie qu'on a un m ̃= 1. Puisqu'on a fait un graphique log(temps) en fonction du log(taille) et que le résultat qu'on obtient est une droite, on peut en conclure que la pente de la droite(m) représente le degré du polynôme qui représente la complexité de l'algorithme. Donc, notre hypothèse est que notre fonction f(x) = x, avec x représentant la taille des exemplaires."
   ]
  },
  {
   "cell_type": "markdown",
   "metadata": {},
   "source": [
    "#### Test du rapport\n",
    "\n",
    "<u>**Question 3.a):**</u> Effectuez le test du rapport avec une ou plusieurs fonctions f pertinentes.\n",
    "\n",
    "Utilisez la fonction `display_test_rapport` pour afficher le graphe."
   ]
  },
  {
   "cell_type": "code",
   "execution_count": null,
   "metadata": {},
   "outputs": [],
   "source": [
    "# TODO: définissez f judicieusement\n",
    "def f(x):\n",
    "    return x\n",
    "\n",
    "display_test_rapport(values_test_rapport(measures_divide_naive_threshold, f))"
   ]
  },
  {
   "cell_type": "markdown",
   "metadata": {},
   "source": [
    "<u>**Question 3.b):**</u> Analysez le graphe obtenu pour le test du rapport."
   ]
  },
  {
   "cell_type": "markdown",
   "metadata": {},
   "source": [
    "Le graphique obtenue est le graphique du temps / f(taille) en fonction de la taille. La fonction f(taille) est celle que nous avons déterminé à l'aide du test de puissance. On peut voir avec le graphique que la courbe obtenue converge vers une certaine valeur a ( ̃= 0.92 * 10⁻⁵) qui est plus grande que 0. C'est bien le résultat attendu qui nous confirme que notre hypothèse posé dans la question 3 est juste. On peut alors rafiné notre hypothèse en disant que temps = a * f(taille)."
   ]
  },
  {
   "cell_type": "markdown",
   "metadata": {},
   "source": [
    "### Test des constantes\n",
    "\n",
    "<u>**Question 4.a):**</u> Effectuez le test des constantes avec une ou plusieurs fonctions f pertinentes.\n",
    "\n",
    "Utilisez la fonction `display_test_constantes` pour afficher le graphe."
   ]
  },
  {
   "cell_type": "code",
   "execution_count": null,
   "metadata": {},
   "outputs": [],
   "source": [
    "# TODO: définissez f judicieusement\n",
    "def f(x):\n",
    "    return x\n",
    "\n",
    "display_test_constantes(values_test_constantes(measures_divide_naive_threshold, f))"
   ]
  },
  {
   "cell_type": "markdown",
   "metadata": {},
   "source": [
    "<u>**Question 4.b):**</u> Analysez le graphe obtenu et indiquez les valeurs des constantes mises en évidence par le test."
   ]
  },
  {
   "cell_type": "markdown",
   "metadata": {},
   "source": [
    "Le graphique obtenue est le graphique du temps en fonction de la f(taille). Le graphique donne une droite, ce qui était le résultat attendu. La pente de la droite est supposé donner a et à la question précédente, nous avons trouvé que a est environ égale à 0.92 * 10⁻⁵. La pente du graphique nous donne 0.935 * 10⁻⁵, ce qui est très proche de la valeur de a trouvé au dernier numéro. On peut donc conclure que a est la constante de notre algorithme. Nous avons aussi une valeur d'ordonné à l'origine b qui est égale à -5.32 * 10⁻³."
   ]
  },
  {
   "cell_type": "markdown",
   "metadata": {},
   "source": [
    "## Partie 3 : Algorithme diviser pour régner (seuil arbitraire) (5 pts)"
   ]
  },
  {
   "cell_type": "markdown",
   "metadata": {},
   "source": [
    "### Selection du seuil"
   ]
  },
  {
   "cell_type": "markdown",
   "metadata": {},
   "source": [
    "<u>**Question 1.a):**</u> Modifiez l'algorithme précédent pour y ajouter un seuil de récursivité (e.g. `threshold`). En dessous de ce seuil, vous utiliserez l'algorithme naïf écrit précédemment."
   ]
  },
  {
   "cell_type": "code",
   "execution_count": null,
   "metadata": {},
   "outputs": [],
   "source": [
    "def skyline_divide_and_conquer_threshold(buildings, threshold=1):\n",
    "    skyline = []\n",
    "    # TODO: Implantez un algorithme diviser-pour-régner\n",
    "    return skyline"
   ]
  },
  {
   "cell_type": "markdown",
   "metadata": {},
   "source": [
    "<u>**Question 1.b):**</u> Effectuez les mesures avec plusieurs seuils de récursivité pour déterminer le seuil le plus judicieux."
   ]
  },
  {
   "cell_type": "code",
   "execution_count": null,
   "metadata": {},
   "outputs": [],
   "source": [
    "measures_threshold = {\n",
    "    i:\n",
    "    measure_mean_time(\n",
    "        lambda sample: skyline_divide_and_conquer_threshold(sample, i),\n",
    "        []) # TODO: sélectionnez un exemplaire \n",
    "        for i in [] # TODO: testez une liste judicieuse de seuils\n",
    "}\n"
   ]
  },
  {
   "cell_type": "code",
   "execution_count": null,
   "metadata": {},
   "outputs": [],
   "source": [
    "display_mesures_seuil(measures_threshold)"
   ]
  },
  {
   "cell_type": "markdown",
   "metadata": {},
   "source": [
    "<u>**Question 1.c):**</u> Quel est le seuil de récursivité de le plus judicieux ? Sur quel critère l'avez vous sélectionné ? Pourquoi des seuils inférieurs ou supérieurs donnent-ils de moins bonnes performances ?"
   ]
  },
  {
   "cell_type": "code",
   "execution_count": null,
   "metadata": {},
   "outputs": [],
   "source": [
    "best_threshold = 1\n",
    "verification_plot(example_buildings, skyline_divide_and_conquer_threshold(example_buildings, best_threshold))"
   ]
  },
  {
   "cell_type": "markdown",
   "metadata": {},
   "source": [
    "<u>**Question 1.d):**</u> Quelle est la complexité asymptotique théorique de cet algorithme?"
   ]
  },
  {
   "cell_type": "markdown",
   "metadata": {},
   "source": [
    "### Mesures (seuil n)"
   ]
  },
  {
   "cell_type": "code",
   "execution_count": null,
   "metadata": {},
   "outputs": [],
   "source": [
    "measures_divide_best_threshold = measure_procedure(lambda sample : skyline_divide_and_conquer_threshold(sample, best_threshold), dataset)"
   ]
  },
  {
   "cell_type": "code",
   "execution_count": null,
   "metadata": {},
   "outputs": [],
   "source": [
    "display_measures_table(measures_divide_best_threshold)"
   ]
  },
  {
   "cell_type": "markdown",
   "metadata": {},
   "source": [
    "### Analyse hybride\n",
    "\n",
    "#### Test de puissance\n",
    "\n",
    "Effectuez le test de puissance de votre algorithme.\n",
    "\n",
    "Utilisez la fonction `display_test_puissance` pour afficher le graphe."
   ]
  },
  {
   "cell_type": "code",
   "execution_count": null,
   "metadata": {},
   "outputs": [],
   "source": [
    "display_test_puissance(values_test_puissance(measures_divide_best_threshold), \"Test de puissance: algorithme seuil n\")"
   ]
  },
  {
   "cell_type": "markdown",
   "metadata": {},
   "source": [
    "<u>**Question 2):**</u> Analysez le graphe obtenu pour le test de puissance."
   ]
  },
  {
   "cell_type": "markdown",
   "metadata": {},
   "source": [
    "#### Test du rapport\n",
    "\n",
    "<u>**Question 3.a):**</u> Effectuez le test du rapport avec une ou plusieurs fonctions f pertinentes.\n",
    "\n",
    "Utilisez la fonction `display_test_rapport` pour afficher le graphe."
   ]
  },
  {
   "cell_type": "code",
   "execution_count": null,
   "metadata": {},
   "outputs": [],
   "source": [
    "# TODO: définissez f judicieusement\n",
    "def f(x):\n",
    "    return 0\n",
    "\n",
    "display_test_rapport(values_test_rapport(measures_divide_best_threshold, f))"
   ]
  },
  {
   "cell_type": "markdown",
   "metadata": {},
   "source": [
    "<u>**Question 3.b):**</u> Analysez le graphe obtenu pour le test du rapport."
   ]
  },
  {
   "cell_type": "markdown",
   "metadata": {},
   "source": [
    "### Test des constantes\n",
    "\n",
    "<u>**Question 4.a):**</u> Effectuez le test des constantes avec une ou plusieurs fonctions f pertinentes.\n",
    "\n",
    "Utilisez la fonction `display_test_constantes` pour afficher le graphe."
   ]
  },
  {
   "cell_type": "code",
   "execution_count": null,
   "metadata": {},
   "outputs": [],
   "source": [
    "# TODO: définissez f judicieusement\n",
    "def f(x):\n",
    "    return 0\n",
    "\n",
    "display_test_constantes(values_test_constantes(measures_divide_best_threshold, f))\n"
   ]
  },
  {
   "cell_type": "markdown",
   "metadata": {},
   "source": [
    "<u>**Question 4.b):**</u> Analysez le graphe obtenu et indiquez les valeurs des constantes mises en évidence par le test."
   ]
  },
  {
   "cell_type": "markdown",
   "metadata": {},
   "source": [
    "<u>**Question 5):**</u> Commentez l'impact du seuil de récursivité. Que représente t'il pour l'algorithme diviser pour régner et l'algorithme naïf ?"
   ]
  },
  {
   "cell_type": "markdown",
   "metadata": {},
   "source": [
    "# Conclusion (3 pts)\n",
    "\n",
    "Résumez *brièvement* vos découvertes et analyses, et indiquez dans quelles circonstances vous utiliserez chacun de ces 3 algorithmes."
   ]
  },
  {
   "cell_type": "markdown",
   "metadata": {},
   "source": [
    " ## Autres critères (2 pts)\n",
    " Qualité du code / 1 pt\n",
    "\n",
    "Présentation générale / 1 pt\n",
    "\n",
    "- Concision\n",
    "- Qualité du français\n",
    "\n",
    "Pénalité retard\n",
    "- -1 pt / journée de retard, arrondi vers le haut. Les TPs ne sont plus acceptés après 3 jours."
   ]
  }
 ],
 "metadata": {
  "kernelspec": {
   "display_name": "Python 3 (ipykernel)",
   "language": "python",
   "name": "python3"
  },
  "language_info": {
   "codemirror_mode": {
    "name": "ipython",
    "version": 3
   },
   "file_extension": ".py",
   "mimetype": "text/x-python",
   "name": "python",
   "nbconvert_exporter": "python",
   "pygments_lexer": "ipython3",
   "version": "3.11.5"
  }
 },
 "nbformat": 4,
 "nbformat_minor": 2
}
